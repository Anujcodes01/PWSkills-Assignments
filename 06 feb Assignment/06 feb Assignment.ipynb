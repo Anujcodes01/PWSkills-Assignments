{
 "cells": [
  {
   "cell_type": "markdown",
   "id": "28d2f82d",
   "metadata": {},
   "source": [
    "## Q1. Create a function which will take a list as an argument and return the product of all the numbers after creating a flat list.\n",
    "Use the below-given list as an argument for your function.\n",
    "list1 = [1,2,3,4, [44,55,66, True], False, (34,56,78,89,34), {1,2,3,3,2,1}, {1:34, \"key2\": [55, 67, 78, 89], 4: (45,\n",
    "22, 61, 34)}, [56, 'data science'], 'Machine Learning']\n",
    "\n"
   ]
  },
  {
   "cell_type": "code",
   "execution_count": 22,
   "id": "cf3322d9",
   "metadata": {},
   "outputs": [],
   "source": [
    "list1 = [1,2,3,4, [44,55,66, True], False, (34,56,78,89,34), {1,2,3,3,2,1}, \n",
    "         {1:34, \"key2\": [55, 67, 78, 89], 4: (45, 22, 61, 34)}, [56, 'data science'], 'Machine Learning']"
   ]
  },
  {
   "cell_type": "code",
   "execution_count": 37,
   "id": "10f58770",
   "metadata": {},
   "outputs": [],
   "source": [
    "from functools import reduce\n",
    "\n",
    "def flat_and_product(lst):\n",
    "    \n",
    "    # creating empty list\n",
    "    l =[]\n",
    "    \n",
    "    #loop the given list\n",
    "    for i in lst:\n",
    "        \n",
    "        # add the value if its int or float to the empty list\n",
    "        \n",
    "        if type(i)==int or type(i)==float:\n",
    "            l.append(i)\n",
    "        \n",
    "        # if the element type is list extend the list l\n",
    "         \n",
    "       \telif type(i)==list:\n",
    "            l.extend(i)\n",
    "            \n",
    "        # if the element type is set or tuple change it to list and extend to list l\n",
    "        \n",
    "        elif type(i)==set or type(i)==tuple:\n",
    "            l.extend(list(i))\n",
    "            \n",
    "            \n",
    "        #if type of element is dictionary then extend keys and values into list l\n",
    "        \n",
    "        \n",
    "        elif type(i)==dict:\n",
    "            for key, value in i.items():\n",
    "                \n",
    "                # if type  of key is int or float apppend it into the list l\n",
    "                if type(key)==int or type(key)==float:\n",
    "                    l.append(key)\n",
    "                # if type  of value is int or float apppend it into the list l\n",
    "                if type(value)==int or type(value)==float:\n",
    "                    l.append(value)\n",
    "                # extend the list l if type is list of value \n",
    "                elif type(value)==list:\n",
    "                    l.extend(value)\n",
    "                # if type of values is set or tuple change it into a list and extend it to list l\n",
    "                elif type(value)==set or type(value)==tuple: \n",
    "                    l.extend(list(value))\n",
    "                    \n",
    "                    \n",
    "                  \n",
    "                \n",
    "               \n",
    "\n",
    "    print('original list',list1)\n",
    "    \n",
    "    \n",
    "    print('************************************************************************')\n",
    "    \n",
    "    print('flat list',l,'\\n')\n",
    "    \n",
    "    \n",
    "    print(\"***************************************************************************\")\n",
    "    \n",
    "    \n",
    "    filter_ = list(filter(lambda X : type(X)==int or type(X)==float,l))\n",
    "    print(\"flat list after filtering numberic values \",filter_)\n",
    "    \n",
    "    \n",
    "    product = reduce(lambda x,y : x*y,filter_)\n",
    "    \n",
    "    return product\n",
    "            "
   ]
  },
  {
   "cell_type": "code",
   "execution_count": 38,
   "id": "dba0aad9",
   "metadata": {},
   "outputs": [
    {
     "name": "stdout",
     "output_type": "stream",
     "text": [
      "original list [1, 2, 3, 4, [44, 55, 66, True], False, (34, 56, 78, 89, 34), {1, 2, 3}, {1: 34, 'key2': [55, 67, 78, 89], 4: (45, 22, 61, 34)}, [56, 'data science'], 'Machine Learning']\n",
      "************************************************************************\n",
      "flat list [1, 2, 3, 4, 44, 55, 66, True, 34, 56, 78, 89, 34, 1, 2, 3, 1, 34, 55, 67, 78, 89, 4, 45, 22, 61, 34, 56, 'data science'] \n",
      "\n",
      "***************************************************************************\n",
      "flat list after filtering numberic values  [1, 2, 3, 4, 44, 55, 66, 34, 56, 78, 89, 34, 1, 2, 3, 1, 34, 55, 67, 78, 89, 4, 45, 22, 61, 34, 56]\n"
     ]
    },
    {
     "data": {
      "text/plain": [
       "4134711838987085478833841242112000"
      ]
     },
     "execution_count": 38,
     "metadata": {},
     "output_type": "execute_result"
    }
   ],
   "source": [
    "flat_and_product(list1)\n"
   ]
  },
  {
   "cell_type": "markdown",
   "id": "63268f98",
   "metadata": {},
   "source": [
    "## Q2. Write a python program for encrypting a message sent to you by your friend. The logic of encryption should be such that, for a the output should be z. For b, the output should be y. For c, the output should be x respectively. Also, the whitespace should be replaced with a dollar sign. Keep the punctuation marks unchanged.\n",
    "Input Sentence: I want to become a Data Scientist.\n",
    "Encrypt the above input sentence using the program you just created.\n",
    "Note: Convert the given input sentence into lowercase before encrypting. The final output should be\n",
    "lowercase."
   ]
  },
  {
   "cell_type": "code",
   "execution_count": 50,
   "id": "7ab2c30f",
   "metadata": {},
   "outputs": [],
   "source": [
    "# Creating a function for providing encrypted output\n",
    "import string\n",
    "def encrypted_message(strg):\n",
    "    \"\"\"\n",
    "    This function returns encrypted string as mentioned in the question 2\n",
    "    \"\"\"\n",
    "\n",
    "    # Step 1 : Creating dictionary {'a':'z','b':'y',...,'z':a}\n",
    "    ascii_alph = string.ascii_lowercase\n",
    "    encrypted_dict = dict(zip(ascii_alph, ascii_alph[::-1]))\n",
    "\n",
    "    # Step 2 : Add space key as $ in dictionary\n",
    "    encrypted_dict[' ']='$'\n",
    "\n",
    "    # Step 3 : Add punctuation marks as it is\n",
    "    for i in string.punctuation:\n",
    "        encrypted_dict[i]=i\n",
    "\n",
    "    # Step 4 : Adding Numbers and keeping them same:\n",
    "    for num in range(0,10):\n",
    "        encrypted_dict[str(num)]=str(num)\n",
    "    \n",
    "    # Dictionary creation is completed \n",
    "\n",
    "    # Step 5 : Initialize blank string encrypt_out\n",
    "    encrypt_out = ''\n",
    "\n",
    "    # Step 6 : Apply for loop to input and use encrypted_dict\n",
    "    # Use lowercase for case unification\n",
    "    for char in strg.lower():\n",
    "        encrypt_out = encrypt_out + encrypted_dict[char]\n",
    "    \n",
    "    return encrypt_out"
   ]
  },
  {
   "cell_type": "code",
   "execution_count": 51,
   "id": "852efca6",
   "metadata": {},
   "outputs": [
    {
     "data": {
      "text/plain": [
       "'svool$dliow$zmfq$gsrh$hrwv$'"
      ]
     },
     "execution_count": 51,
     "metadata": {},
     "output_type": "execute_result"
    }
   ],
   "source": [
    "me = \"hello world anuj this side \"\n",
    "\n",
    "encrypted_message(me)"
   ]
  },
  {
   "cell_type": "code",
   "execution_count": 52,
   "id": "daead252",
   "metadata": {},
   "outputs": [
    {
     "data": {
      "text/plain": [
       "'$r$dzmg$gl$yvxlnv$z$wzgz$hxrvmgrhg.'"
      ]
     },
     "execution_count": 52,
     "metadata": {},
     "output_type": "execute_result"
    }
   ],
   "source": [
    "# final string\n",
    "inp = ' I want to become a Data Scientist.'\n",
    "\n",
    "encrypted_message(inp)"
   ]
  },
  {
   "cell_type": "code",
   "execution_count": null,
   "id": "fafbcff4",
   "metadata": {},
   "outputs": [],
   "source": []
  }
 ],
 "metadata": {
  "kernelspec": {
   "display_name": "Python 3 (ipykernel)",
   "language": "python",
   "name": "python3"
  },
  "language_info": {
   "codemirror_mode": {
    "name": "ipython",
    "version": 3
   },
   "file_extension": ".py",
   "mimetype": "text/x-python",
   "name": "python",
   "nbconvert_exporter": "python",
   "pygments_lexer": "ipython3",
   "version": "3.9.13"
  }
 },
 "nbformat": 4,
 "nbformat_minor": 5
}
