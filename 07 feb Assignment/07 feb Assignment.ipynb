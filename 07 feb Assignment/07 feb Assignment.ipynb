{
 "cells": [
  {
   "cell_type": "markdown",
   "id": "842601ac",
   "metadata": {},
   "source": [
    "## Q1. You are writing code for a company. The requirement of the company is that you create a python function that will check whether the password entered by the user is correct or not. The function should take the password as input and return the string “Valid Password” if the entered password follows the below-given password guidelines else it should return “Invalid Password”.\n",
    "Note: 1. The Password should contain at least two uppercase letters and at least two lowercase letters.\n",
    "2. The Password should contain at least a number and three special characters.\n",
    "3. The length of the password should be 10 characters long."
   ]
  },
  {
   "cell_type": "code",
   "execution_count": 26,
   "id": "00f85150",
   "metadata": {},
   "outputs": [],
   "source": [
    "def user_password(password):\n",
    "    \n",
    "    \n",
    "    \n",
    "    uppercase = 0\n",
    "    lowercase = 0\n",
    "    number =0\n",
    "    symbol = 0\n",
    "    \n",
    "    \n",
    "    # iterating through each character of password\n",
    "    \n",
    "    for char in password:\n",
    "        \n",
    "        # if character have alphabets\n",
    "        if char.isalpha()==True:\n",
    "            # checking charc have upper case alpha\n",
    "            if char.isupper()==True:\n",
    "                uppercase = uppercase + 1\n",
    "            # checking charc have lower case alpha    \n",
    "            else :\n",
    "                lowercase = lowercase +1\n",
    "                \n",
    "        # checking charc have numeric values        \n",
    "        elif char.isnumeric() ==True:\n",
    "            number = number +1\n",
    "            \n",
    "        # checking charc have special symbols     \n",
    "        else :\n",
    "            symbol = symbol + 1\n",
    "            \n",
    "            \n",
    "    return uppercase,lowercase,number,symbol\n",
    "\n",
    "def checking_password(password):\n",
    "    \n",
    "    \n",
    "    # add the uper_input function in this function to check the required values present is password   \n",
    "    uppercase,lowercase,number,symbol = user_password(password)\n",
    "\n",
    "\t# checking the requirements of the password\n",
    "\n",
    "    isvalid = (uppercase>=2) and (lowercase>=2)and (number>=1)and (symbol>=3) and (len(password)==10)\n",
    "\n",
    "    # checking if requirement satisfied of the password then return valid password otherwise invalid.\n",
    "    if isvalid ==True :\n",
    "\n",
    "        return 'valid password'\n",
    "\n",
    "    else:\n",
    "        return 'invalid password'\n"
   ]
  },
  {
   "cell_type": "code",
   "execution_count": 25,
   "id": "de33f213",
   "metadata": {},
   "outputs": [
    {
     "data": {
      "text/plain": [
       "'valid password'"
      ]
     },
     "execution_count": 25,
     "metadata": {},
     "output_type": "execute_result"
    }
   ],
   "source": [
    "checking_password('P$W@Skil!1')"
   ]
  },
  {
   "cell_type": "code",
   "execution_count": 29,
   "id": "71d4344e",
   "metadata": {},
   "outputs": [
    {
     "data": {
      "text/plain": [
       "'invalid password'"
      ]
     },
     "execution_count": 29,
     "metadata": {},
     "output_type": "execute_result"
    }
   ],
   "source": [
    "checking_password('ANuj@@#1')"
   ]
  },
  {
   "cell_type": "markdown",
   "id": "8de15046",
   "metadata": {},
   "source": [
    "## Q2. Solve the below-given questions using at least one of the following:\n",
    "1. Lambda function\n",
    "2. Filter function\n",
    "3. map function\n",
    "4. List Comprehension"
   ]
  },
  {
   "cell_type": "markdown",
   "id": "65fcc41f",
   "metadata": {},
   "source": [
    "* Check if String starts with a particular letter"
   ]
  },
  {
   "cell_type": "code",
   "execution_count": 33,
   "id": "501ec2e6",
   "metadata": {},
   "outputs": [
    {
     "name": "stdout",
     "output_type": "stream",
     "text": [
      "True\n",
      "False\n"
     ]
    }
   ],
   "source": [
    "# using lambda function to check string starts with particular letter\n",
    "\n",
    "string = lambda x:x[0].lower()=='a'\n",
    "\n",
    "print(string(\"anuj\"))\n",
    "\n",
    "print(string('virat'))\n"
   ]
  },
  {
   "cell_type": "markdown",
   "id": "dc027134",
   "metadata": {},
   "source": [
    "* Check if string is numeric"
   ]
  },
  {
   "cell_type": "code",
   "execution_count": 41,
   "id": "7ae5d6e5",
   "metadata": {},
   "outputs": [
    {
     "name": "stdout",
     "output_type": "stream",
     "text": [
      "enter a string   anuj\n",
      "False\n",
      "False\n",
      "False\n",
      "False\n"
     ]
    }
   ],
   "source": [
    "# checking wether string is numeric using \n",
    "\n",
    "string = input('enter a string   ')\n",
    "\n",
    "for i in string:\n",
    "    \n",
    "    if i.isnumeric()==True:\n",
    "        print('True')\n",
    "    \n",
    "    else:\n",
    "        print('False')\n",
    "        \n",
    "       "
   ]
  },
  {
   "cell_type": "markdown",
   "id": "d42c3366",
   "metadata": {},
   "source": [
    "* Sort a list of tuples having fruit names and their quantity. [(\"mango\",99),(\"orange\",80), (\"grapes\", 1000)-"
   ]
  },
  {
   "cell_type": "code",
   "execution_count": 42,
   "id": "0d1f8c69",
   "metadata": {},
   "outputs": [
    {
     "data": {
      "text/plain": [
       "[('grapes', 1000), ('mango', 99), ('orange', 80)]"
      ]
     },
     "execution_count": 42,
     "metadata": {},
     "output_type": "execute_result"
    }
   ],
   "source": [
    "# sorting using lambda function\n",
    "\n",
    "fruits =  [(\"mango\",99),(\"orange\",80), (\"grapes\", 1000)]\n",
    "\n",
    "sortvalues = sorted(fruits ,key = lambda X:X[0])\n",
    "sortvalues"
   ]
  },
  {
   "cell_type": "markdown",
   "id": "79b73360",
   "metadata": {},
   "source": [
    "* Find squares of numbers from 1 to 10"
   ]
  },
  {
   "cell_type": "code",
   "execution_count": 47,
   "id": "65a0ea71",
   "metadata": {},
   "outputs": [],
   "source": [
    "# using list comprehension\n",
    "\n",
    "square = [i*i for i in range(1,11)]"
   ]
  },
  {
   "cell_type": "code",
   "execution_count": 48,
   "id": "460de362",
   "metadata": {},
   "outputs": [
    {
     "data": {
      "text/plain": [
       "[1, 4, 9, 16, 25, 36, 49, 64, 81, 100]"
      ]
     },
     "execution_count": 48,
     "metadata": {},
     "output_type": "execute_result"
    }
   ],
   "source": [
    "square"
   ]
  },
  {
   "cell_type": "markdown",
   "id": "eda95119",
   "metadata": {},
   "source": [
    "* Find cube root of numbers from 1 to 10"
   ]
  },
  {
   "cell_type": "code",
   "execution_count": 60,
   "id": "74dcb01c",
   "metadata": {},
   "outputs": [],
   "source": [
    "# using map \n",
    "\n",
    "cuberoot = list(map(lambda x:x**(1/3) , range(1,11)))"
   ]
  },
  {
   "cell_type": "code",
   "execution_count": 62,
   "id": "2093fce6",
   "metadata": {},
   "outputs": [
    {
     "data": {
      "text/plain": [
       "[1.0,\n",
       " 1.2599210498948732,\n",
       " 1.4422495703074083,\n",
       " 1.5874010519681994,\n",
       " 1.7099759466766968,\n",
       " 1.8171205928321397,\n",
       " 1.912931182772389,\n",
       " 2.0,\n",
       " 2.080083823051904,\n",
       " 2.154434690031884]"
      ]
     },
     "execution_count": 62,
     "metadata": {},
     "output_type": "execute_result"
    }
   ],
   "source": [
    "cuberoot"
   ]
  },
  {
   "cell_type": "markdown",
   "id": "7b512840",
   "metadata": {},
   "source": [
    "* Check if given number is even"
   ]
  },
  {
   "cell_type": "code",
   "execution_count": 51,
   "id": "beca055b",
   "metadata": {},
   "outputs": [],
   "source": [
    "# using lambda \n",
    "\n",
    "even  = lambda x : x**2==0"
   ]
  },
  {
   "cell_type": "code",
   "execution_count": 52,
   "id": "63ffe4d7",
   "metadata": {},
   "outputs": [
    {
     "name": "stdout",
     "output_type": "stream",
     "text": [
      "False\n"
     ]
    }
   ],
   "source": [
    "print(even(3))"
   ]
  },
  {
   "cell_type": "markdown",
   "id": "49cad470",
   "metadata": {},
   "source": [
    "* Filter odd numbers from given list : [1,2,3,4,5,6,7,8,9,10]"
   ]
  },
  {
   "cell_type": "code",
   "execution_count": 54,
   "id": "70b456ff",
   "metadata": {},
   "outputs": [
    {
     "data": {
      "text/plain": [
       "[1, 3, 5, 7, 9]"
      ]
     },
     "execution_count": 54,
     "metadata": {},
     "output_type": "execute_result"
    }
   ],
   "source": [
    "# using filter and lambda \n",
    "\n",
    "lists= [1,2,3,4,5,6,7,8,9,10]\n",
    "\n",
    "list(filter(lambda x:x%2!=0,lists))\n"
   ]
  },
  {
   "cell_type": "markdown",
   "id": "a1d0663d",
   "metadata": {},
   "source": [
    "* Sort a list of integers into positive and negative integers list : [1,2,3,4,5,6,-1,-2,-3,-4,-5,0]"
   ]
  },
  {
   "cell_type": "code",
   "execution_count": 56,
   "id": "e93630ab",
   "metadata": {},
   "outputs": [
    {
     "name": "stdout",
     "output_type": "stream",
     "text": [
      "[1, 2, 3, 4, 5, 6]\n"
     ]
    },
    {
     "data": {
      "text/plain": [
       "[-5, -4, -3, -2, -1]"
      ]
     },
     "execution_count": 56,
     "metadata": {},
     "output_type": "execute_result"
    }
   ],
   "source": [
    "# using list comprehension to filter positive and negative values\n",
    "\n",
    "lsit = [1,2,3,4,5,6,-1,-2,-3,-4,-5,0]\n",
    "\n",
    "posi = sorted([i for i in lsit if i>0])\n",
    "nega = sorted([i for i in lsit if i<0])\n",
    "print(posi)\n",
    "nega"
   ]
  },
  {
   "cell_type": "code",
   "execution_count": null,
   "id": "1b9013af",
   "metadata": {},
   "outputs": [],
   "source": []
  }
 ],
 "metadata": {
  "kernelspec": {
   "display_name": "Python 3 (ipykernel)",
   "language": "python",
   "name": "python3"
  },
  "language_info": {
   "codemirror_mode": {
    "name": "ipython",
    "version": 3
   },
   "file_extension": ".py",
   "mimetype": "text/x-python",
   "name": "python",
   "nbconvert_exporter": "python",
   "pygments_lexer": "ipython3",
   "version": "3.9.13"
  }
 },
 "nbformat": 4,
 "nbformat_minor": 5
}
