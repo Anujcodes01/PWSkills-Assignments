{
 "cells": [
  {
   "cell_type": "markdown",
   "metadata": {},
   "source": [
    "<a id=\"0\"></a>\n",
    "\n",
    "# <p style=\"padding:10px;background-color:#00CED1;font-family:newtimeroman;font-size:100%;text-align:center;border-radius: 10px 10px ;overflow:hidden;font-weight:50\">Assignment 2 - Anuj Dhyani</p>"
   ]
  },
  {
   "cell_type": "markdown",
   "metadata": {},
   "source": [
    "<a id=\"2\"></a>\n",
    "\n",
    "# <p style=\"padding:10px;background-color:#00FF00 ;margin:10;color:#000000;font-family:newtimeroman;font-size:100%;text-align:center;border-radius: 10px 10px ;overflow:hidden;font-weight:50\">Question 1</p>"
   ]
  },
  {
   "cell_type": "markdown",
   "metadata": {},
   "source": [
    "### Write a Program to accept percentage from user and display grade according to following Criteria\n",
    "| Marks           | Grade       |\n",
    "| :-----------:   | :---------: |\n",
    "| >90             | A           |\n",
    "| >80 and <=90    | B           |\n",
    "| >=60 and <=80   | C           |\n",
    "| below 60        | D           |"
   ]
  },
  {
   "cell_type": "markdown",
   "metadata": {},
   "source": [
    "I have used try, except and finally just for error handling purposes"
   ]
  },
  {
   "cell_type": "code",
   "execution_count": 21,
   "metadata": {},
   "outputs": [
    {
     "name": "stdout",
     "output_type": "stream",
     "text": [
      "Marks of student are : 95\n",
      "Grade Obtained : A\n",
      "*****************\n"
     ]
    }
   ],
   "source": [
    "marks = input('Enter Marks of Student : ') #Input Marks of Student\n",
    "\n",
    "try:\n",
    "    if marks.isnumeric()==True: #Checks if Numeric value entered by user and then converts into float\n",
    "        marks = int(marks)    \n",
    "\n",
    "    print(f\"Marks of student are : {marks}\") #Display marks of student\n",
    "\n",
    "    \"\"\"\n",
    "    Below is main Conditions for code\n",
    "    \"\"\"\n",
    "    if marks>90: \n",
    "        print('Grade Obtained : A')\n",
    "    elif (marks>80) and (marks<=90):\n",
    "        print('Grade Obtained : B')\n",
    "    elif (marks>=60) and (marks<=80):\n",
    "        print('Grade Obtained : C')\n",
    "    else:\n",
    "        print('Grade Obtained : D')\n",
    "\n",
    "except: \n",
    "    if marks.isnumeric()==False: #Raises error if numeric value not entered by user\n",
    "        raise Exception('Please enter Numeric value in Marks Characters and string not allowed')\n",
    "\n",
    "finally:\n",
    "    print('*****************')"
   ]
  },
  {
   "cell_type": "markdown",
   "metadata": {},
   "source": [
    "<a id=\"3\"></a>\n",
    "\n",
    "# <p style=\"padding:10px;background-color:#00FF00 ;margin:10;color:#000000;font-family:newtimeroman;font-size:100%;text-align:center;border-radius: 10px 10px ;overflow:hidden;font-weight:50\">Question 2</p>"
   ]
  },
  {
   "cell_type": "markdown",
   "metadata": {},
   "source": [
    "### Write a program to accept cost price of bike and display the road tax to be paid according to following criteria\n",
    "| Tax             | Cost Price (in Rs.)  |\n",
    "| :-----------:   | :-----------------:  |\n",
    "| 15%             | >100000              |\n",
    "| 10%             | >50000 and <=100000  |\n",
    "| 5%              | <=50000              |"
   ]
  },
  {
   "cell_type": "code",
   "execution_count": 25,
   "metadata": {},
   "outputs": [
    {
     "name": "stdout",
     "output_type": "stream",
     "text": [
      "Price of bike is Rupees 115000.0\n",
      "Tax Applicable is 15% and Tax amount is Rupees 17250.0\n"
     ]
    }
   ],
   "source": [
    "price = float(input('Enter Price of the Bike in Rupees : '))\n",
    "print(f\"Price of bike is Rupees {price}\")\n",
    "\n",
    "if price>100000:\n",
    "    print(f\"Tax Applicable is 15% and Tax amount is Rupees {round(0.15*price,2)}\")\n",
    "elif (price>50000) and (price<=100000):\n",
    "    print(f\"Tax Applicable is 10% and Tax amount is Rupees {round(0.10*price,2)}\")\n",
    "else:\n",
    "    print(f\"Tax Applicable is 5% and Tax amount is Rupees {round(0.05*price,2)}\")"
   ]
  },
  {
   "cell_type": "markdown",
   "metadata": {},
   "source": [
    "<a id=\"4\"></a>\n",
    "\n",
    "# <p style=\"padding:10px;background-color:#00FF00 ;margin:10;color:#000000;font-family:newtimeroman;font-size:100%;text-align:center;border-radius: 10px 10px ;overflow:hidden;font-weight:50\">Question 3</p>"
   ]
  },
  {
   "cell_type": "markdown",
   "metadata": {},
   "source": [
    "### Accept any city from user and display monuments of that city\n",
    "| City            | Monument       |\n",
    "| :-----------:   | :-----------:  |\n",
    "| Delhi           | Red Fort       |\n",
    "| Agra            | Taj Mahal      |\n",
    "| Jaipur          | Jal Mahal      |"
   ]
  },
  {
   "cell_type": "code",
   "execution_count": 30,
   "metadata": {},
   "outputs": [
    {
     "name": "stdout",
     "output_type": "stream",
     "text": [
      "City Entered is : Jaipur\n",
      "Monument of Jaipur is Jal Mahal.\n"
     ]
    }
   ],
   "source": [
    "city = input('Enter City Name : ')\n",
    "print('City Entered is :',city)\n",
    "\n",
    "#In below code i have used .lower() for case unification and then checking\n",
    "if city.lower()=='delhi':\n",
    "    print(f'Monument of {city} is Red Fort.')\n",
    "elif city.lower()=='agra':\n",
    "    print(f'Monument of {city} is Taj Mahal.')\n",
    "elif city.lower()=='jaipur':\n",
    "    print(f'Monument of {city} is Jal Mahal.')\n",
    "else:\n",
    "    print(f'City {city} was entered please enter Delhi, Agra or Jaipur.')  "
   ]
  },
  {
   "cell_type": "markdown",
   "metadata": {},
   "source": [
    "<a id=\"5\"></a>\n",
    "\n",
    "# <p style=\"padding:10px;background-color:#00FF00 ;margin:10;color:#000000;font-family:newtimeroman;font-size:100%;text-align:center;border-radius: 10px 10px ;overflow:hidden;font-weight:50\">Question 4</p>"
   ]
  },
  {
   "cell_type": "markdown",
   "metadata": {},
   "source": [
    "### Check How many times a given number can be divided by 3 before it is less than equal to 10"
   ]
  },
  {
   "cell_type": "code",
   "execution_count": 48,
   "metadata": {},
   "outputs": [
    {
     "name": "stdout",
     "output_type": "stream",
     "text": [
      "1010.0\n",
      "336.6666666666667\n",
      "112.22222222222223\n",
      "37.40740740740741\n",
      "12.469135802469138\n",
      "4.156378600823046\n",
      "Times the Number can be divided by Three : 6 times.\n"
     ]
    }
   ],
   "source": [
    "num = 3030\n",
    "counter = 0 \n",
    "while num >10:\n",
    "    num = num/3\n",
    "    print(num)\n",
    "    counter = counter+1\n",
    "print(f'Times the Number can be divided by Three : {counter} times.')"
   ]
  },
  {
   "cell_type": "markdown",
   "metadata": {},
   "source": [
    "<a id=\"6\"></a>\n",
    "\n",
    "# <p style=\"padding:10px;background-color:#00FF00;margin:10;color:#000000;font-family:newtimeroman;font-size:100%;text-align:center;border-radius: 10px 10px ;overflow:hidden;font-weight:50\">Question 5</p>"
   ]
  },
  {
   "cell_type": "markdown",
   "metadata": {},
   "source": [
    "### Why and When to use While loop in python give a detailed description with example"
   ]
  },
  {
   "cell_type": "markdown",
   "metadata": {},
   "source": [
    "In Python, the while loop is used to repeatedly execute a block of code as long as a certain condition is true. The while loop will continue to execute the block of code as long as the condition remains true, and will stop executing the block of code once the condition becomes false.\n",
    "\n",
    "The basic syntax for a while loop in Python is as follows:\n",
    "\n",
    "while condition:\n",
    "    # code to be executed while condition is true"
   ]
  },
  {
   "cell_type": "markdown",
   "metadata": {},
   "source": [
    "* One common use case for a while loop is when you don't know how many times you need to repeat a certain task. For example, you might use a while loop to repeatedly prompt a user for input until they provide a valid response. Here's an example:\n",
    "\n"
   ]
  },
  {
   "cell_type": "code",
   "execution_count": 4,
   "metadata": {},
   "outputs": [
    {
     "name": "stdout",
     "output_type": "stream",
     "text": [
      "Please enter a number between 1 and 10: 5\n",
      "You entered: 5\n"
     ]
    }
   ],
   "source": [
    "valid_input = False\n",
    "while not valid_input:\n",
    "    user_input = input(\"Please enter a number between 1 and 10: \")\n",
    "    if user_input.isdigit() and 1 <= int(user_input) <= 10:\n",
    "        valid_input = True\n",
    "    else:\n",
    "        print(\"Invalid input, please try again.\")\n",
    "\n",
    "print(\"You entered:\", user_input)"
   ]
  },
  {
   "cell_type": "markdown",
   "metadata": {},
   "source": [
    "<a id=\"7\"></a>\n",
    "\n",
    "# <p style=\"padding:10px;background-color:#00FF00 ;margin:10;color:#000000;font-family:newtimeroman;font-size:100%;text-align:center;border-radius: 10px 10px ;overflow:hidden;font-weight:50\">Question 6</p>"
   ]
  },
  {
   "cell_type": "markdown",
   "metadata": {},
   "source": [
    "### Use nested while loop to print 3 different patterns"
   ]
  },
  {
   "cell_type": "code",
   "execution_count": 83,
   "metadata": {},
   "outputs": [
    {
     "name": "stdout",
     "output_type": "stream",
     "text": [
      "*\n",
      "**\n",
      "***\n",
      "****\n",
      "*****\n",
      "******\n",
      "*******\n",
      "********\n",
      "*********\n",
      "**********\n"
     ]
    }
   ],
   "source": [
    "# Pattern 1: Right Angled Star pattern\n",
    "i = 1\n",
    "while i <= 10:\n",
    "    j = 1\n",
    "    while j <= i:\n",
    "        print(\"*\", end=\"\")\n",
    "        j += 1\n",
    "    print(\"\")\n",
    "    i += 1"
   ]
  },
  {
   "cell_type": "code",
   "execution_count": 84,
   "metadata": {},
   "outputs": [
    {
     "name": "stdout",
     "output_type": "stream",
     "text": [
      "         *\n",
      "        ***\n",
      "       *****\n",
      "      *******\n",
      "     *********\n",
      "    ***********\n",
      "   *************\n",
      "  ***************\n",
      " *****************\n",
      "*******************\n"
     ]
    }
   ],
   "source": [
    "# Pattern 2: Isoceles Triangle Star pattern\n",
    "n = 10\n",
    "i = 1\n",
    "while i <= n:\n",
    "    spaces = n - i\n",
    "    while spaces > 0:\n",
    "        print(\" \", end=\"\")\n",
    "        spaces -= 1\n",
    "    stars = 2 * i - 1\n",
    "    while stars > 0:\n",
    "        print(\"*\", end=\"\")\n",
    "        stars -= 1\n",
    "    print(\"\")\n",
    "    i += 1"
   ]
  },
  {
   "cell_type": "code",
   "execution_count": 13,
   "metadata": {},
   "outputs": [
    {
     "name": "stdout",
     "output_type": "stream",
     "text": [
      "         *\n",
      "        ***\n",
      "       *****\n",
      "      *******\n",
      "     *********\n",
      "         ***\n",
      "         ***\n",
      "         ***\n"
     ]
    }
   ],
   "source": [
    "# Christmas tree:\n",
    "# Set the height of the tree\n",
    "height = 10\n",
    "\n",
    "# Set the initial width of the tree trunk\n",
    "trunk_width = 3\n",
    "\n",
    "# Set the initial number of spaces to print before the first row of branches\n",
    "num_spaces = height - 1\n",
    "\n",
    "# Set the initial number of branches to print in the first row\n",
    "num_branches = 1\n",
    "\n",
    "# Loop through each row of the tree\n",
    "while num_branches <= height:\n",
    "\n",
    "    # Print the spaces before the branches\n",
    "    print(\" \" * num_spaces, end=\"\")\n",
    "\n",
    "    # Print the branches for the current row\n",
    "    print(\"*\" * num_branches)\n",
    "\n",
    "    # Increment the number of branches and decrease the number of spaces for the next row\n",
    "    num_branches += 2\n",
    "    num_spaces -= 1\n",
    "\n",
    "# Print the tree trunk\n",
    "trunk_height = height // 3\n",
    "for i in range(trunk_height):\n",
    "    print(\" \" * (height - trunk_width // 2), end=\"\")\n",
    "    print(\"*\" * trunk_width)"
   ]
  },
  {
   "cell_type": "markdown",
   "metadata": {},
   "source": [
    "<a id=\"8\"></a>\n",
    "\n",
    "# <p style=\"padding:10px;background-color:#00FF00 ;margin:10;color:#000000;font-family:newtimeroman;font-size:100%;text-align:center;border-radius: 10px 10px ;overflow:hidden;font-weight:50\">Question 7</p>"
   ]
  },
  {
   "cell_type": "markdown",
   "metadata": {},
   "source": [
    "### Reverse a while loop to display numbers from 10 to 1"
   ]
  },
  {
   "cell_type": "code",
   "execution_count": 88,
   "metadata": {},
   "outputs": [
    {
     "name": "stdout",
     "output_type": "stream",
     "text": [
      "10\n",
      "9\n",
      "8\n",
      "7\n",
      "6\n",
      "5\n",
      "4\n",
      "3\n",
      "2\n",
      "1\n"
     ]
    }
   ],
   "source": [
    "i = 10\n",
    "while i>=1:\n",
    "    print(i)\n",
    "    i = i - 1"
   ]
  },
  {
   "cell_type": "markdown",
   "metadata": {},
   "source": [
    "<a id=\"9\"></a>\n",
    "\n",
    "# <p style=\"padding:10px;background-color:#00FF00 ;margin:10;color:#000000;font-family:newtimeroman;font-size:100%;text-align:center;border-radius: 10px 10px ;overflow:hidden;font-weight:50\">Question 8</p>"
   ]
  },
  {
   "cell_type": "markdown",
   "metadata": {},
   "source": [
    "### Reverse a while loop to display numbers from 10 to 1"
   ]
  },
  {
   "cell_type": "code",
   "execution_count": 90,
   "metadata": {},
   "outputs": [
    {
     "name": "stdout",
     "output_type": "stream",
     "text": [
      "10\n",
      "9\n",
      "8\n",
      "7\n",
      "6\n",
      "5\n",
      "4\n",
      "3\n",
      "2\n",
      "1\n"
     ]
    }
   ],
   "source": [
    "counter = 10\n",
    "while True:\n",
    "    print(counter)\n",
    "    counter = counter-1\n",
    "    if counter == 0:\n",
    "        break"
   ]
  }
 ],
 "metadata": {
  "kernelspec": {
   "display_name": "Python 3 (ipykernel)",
   "language": "python",
   "name": "python3"
  },
  "language_info": {
   "codemirror_mode": {
    "name": "ipython",
    "version": 3
   },
   "file_extension": ".py",
   "mimetype": "text/x-python",
   "name": "python",
   "nbconvert_exporter": "python",
   "pygments_lexer": "ipython3",
   "version": "3.9.13"
  },
  "vscode": {
   "interpreter": {
    "hash": "27149e82490bdaa27222c4e29544e396278d224a9f42010d392c3451ce079b12"
   }
  }
 },
 "nbformat": 4,
 "nbformat_minor": 2
}
