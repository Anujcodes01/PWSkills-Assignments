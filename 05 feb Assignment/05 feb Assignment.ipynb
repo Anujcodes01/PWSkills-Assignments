{
 "cells": [
  {
   "cell_type": "markdown",
   "id": "d6d14c1a",
   "metadata": {},
   "source": [
    "## Q1. Explain Class and Object with respect to Object-Oriented Programming. Give a suitable example."
   ]
  },
  {
   "cell_type": "markdown",
   "id": "0bb4b256",
   "metadata": {},
   "source": [
    "Answer => In Object-Oriented Programming (OOP), a class is a blueprint or a template for creating objects of similar types. A class defines the attributes and behaviors that its objects will possess.\n",
    "\n",
    "On the other hand, an object is an instance of a class, created from the class blueprint. Objects have their own identity and state, and can interact with each other through the methods defined in their class.\n",
    "\n",
    " Here's a example:\n",
    "\n",
    "Consider a class named \"Animal\" which has attributes such as name, species, and age, and methods such as eat and sleep. An object of the Animal class could be a specific animal, such as a cat with a name of \"Fluffy\", species of \"Persian\", and age of 2. \n",
    "\n",
    "To create an object of the Animal class, we would use the syntax:\n",
    "\n",
    "`Class Animal:`\n",
    "\n",
    "```\n",
    "my_animal = Animal()\n",
    "```\n",
    "\n",
    "Here, `my_animal` is an object of the Animal class. We can then use the methods defined in the Animal class to interact with our object. For example, we could make our animal sleep by calling the sleep method:\n",
    "\n",
    "```\n",
    "my_animal.sleep()\n",
    "```\n",
    "\n",
    "This would execute the code defined in the sleep method of the Animal class, which might involve the animal closing its eyes and slowing down its breathing.\n",
    "\n",
    "We could also change the attributes of our animal object. For example, we could change the name of the animal from \"Fluffy\" to \"Whiskers\" by setting the name attribute:\n",
    "\n",
    "```\n",
    "my_animal.name = \"Whiskers\"\n",
    "```\n",
    "\n",
    "Overall, the Animal class provides a template for creating animal objects with shared properties and behaviors, while each object is a distinct instance with its own attributes and state."
   ]
  },
  {
   "cell_type": "markdown",
   "id": "919ce40b",
   "metadata": {},
   "source": [
    "## Q2. Name the four pillars of OOPs."
   ]
  },
  {
   "cell_type": "markdown",
   "id": "9cb50027",
   "metadata": {},
   "source": [
    "The four pillars of Object-Oriented Programming (OOP) are:\n",
    "\n",
    "1. Encapsulation: It refers to the bundling of data and methods that operate on that data within a single unit, which is called a class. Encapsulation allows us to protect the data from outside interference and misuse, ensuring that it can only be accessed and modified through the defined methods.\n",
    "\n",
    "2. Abstraction: It refers to the concept of hiding complex implementation details and exposing only the necessary information to the user. In other words, abstraction allows us to focus on the essential features of an object and ignore the irrelevant details. \n",
    "\n",
    "3. Inheritance: It refers to the ability of a class to inherit properties and behaviors from its parent class. This enables us to reuse code and create a hierarchy of classes that represent increasingly specific concepts. \n",
    "\n",
    "4. Polymorphism: It refers to the ability of objects to take on multiple forms or to have multiple behaviors. Polymorphism allows us to define methods in a superclass that can be overridden in its subclasses, allowing for different implementations of the same method in different objects."
   ]
  },
  {
   "cell_type": "markdown",
   "id": "c4a325c0",
   "metadata": {},
   "source": [
    "## Q3. Explain why the __init__() function is used. Give a suitable example."
   ]
  },
  {
   "cell_type": "markdown",
   "id": "79636412",
   "metadata": {},
   "source": [
    "In object-oriented programming (OOP), the `__init__()` function is a special method that is called when an object is created from a class. The purpose of the `__init__()` function is to initialize the object's attributes and perform any other setup that is necessary for the object to function properly.\n",
    "\n",
    "The `__init__()` function takes the `self` parameter, which refers to the object being created, and any other parameters that are needed to initialize the object. Inside the `__init__()` function, we can set the values of the object's attributes using the `self.attribute_name = value` syntax.\n",
    "\n"
   ]
  },
  {
   "cell_type": "code",
   "execution_count": 1,
   "id": "5549210e",
   "metadata": {},
   "outputs": [
    {
     "name": "stdout",
     "output_type": "stream",
     "text": [
      "Hello, my name is John and I am 25 years old.\n"
     ]
    },
    {
     "data": {
      "text/plain": [
       "'In this example, we have defined a Person class with a __init__() function that \\ntakes name and age parameters. Inside the __init__() function, we have set the values \\nof the name and age attributes using the self.attribute_name = value syntax'"
      ]
     },
     "execution_count": 1,
     "metadata": {},
     "output_type": "execute_result"
    }
   ],
   "source": [
    "# Here's an example to illustrate the use of `__init__()` function:\n",
    "\n",
    "class Person:\n",
    "    def __init__(self, name, age):\n",
    "        self.name = name\n",
    "        self.age = age\n",
    "\n",
    "    def introduce(self):\n",
    "        print(\"Hello, my name is\", self.name, \"and I am\", self.age, \"years old.\")\n",
    "\n",
    "# create a Person object and call the introduce() method\n",
    "person1 = Person(\"John\", 25)\n",
    "person1.introduce()\n",
    "\n",
    "\n",
    "\"\"\"In this example, we have defined a Person class with a __init__() function that \n",
    "takes name and age parameters. Inside the __init__() function, we have set the values \n",
    "of the name and age attributes using the self.attribute_name = value syntax\"\"\""
   ]
  },
  {
   "cell_type": "markdown",
   "id": "c2971a1a",
   "metadata": {},
   "source": [
    "## Q4. Why self is used in OOPs?"
   ]
  },
  {
   "cell_type": "markdown",
   "id": "f0f2cffa",
   "metadata": {},
   "source": [
    "In OOP, `self` is used to refer to the current instance of a class. It is a way to access the object's attributes and methods. In Python, `self` is the first parameter passed to any method of a class, and it refers to the object on which the method is called. Using `self`, we can access and modify the object's attributes and perform operations on the object."
   ]
  },
  {
   "cell_type": "markdown",
   "id": "6c1f8245",
   "metadata": {},
   "source": [
    "## Q5. What is inheritance? Give an example for each type of inheritance."
   ]
  },
  {
   "cell_type": "markdown",
   "id": "0909c448",
   "metadata": {},
   "source": [
    "Inheritance is a fundamental concept in object-oriented programming that allows us to create a new class by deriving or inheriting the characteristics of an existing class. The existing class is known as the parent class or superclass, and the new class is known as the child class or subclass.\n",
    "\n",
    "The child class inherits all the properties and methods of the parent class and can also add new properties and methods or modify the inherited ones. This enables code reuse and allows us to create more specialized classes without having to redefine common properties and methods."
   ]
  },
  {
   "cell_type": "markdown",
   "id": "dbd86949",
   "metadata": {},
   "source": [
    "There are four types of inheritance in Python:\n",
    "\n",
    "Single Inheritance: In this type of inheritance, a child class inherits from a single parent class."
   ]
  },
  {
   "cell_type": "code",
   "execution_count": 2,
   "id": "75963870",
   "metadata": {},
   "outputs": [
    {
     "name": "stdout",
     "output_type": "stream",
     "text": [
      "Moving...\n",
      "Woof!\n"
     ]
    }
   ],
   "source": [
    "#Example:\n",
    "\n",
    "class Animal:\n",
    "    def move(self):\n",
    "        print(\"Moving...\")\n",
    "\n",
    "class Dog(Animal):\n",
    "    def bark(self):\n",
    "        print(\"Woof!\")\n",
    "\n",
    "my_dog = Dog()\n",
    "my_dog.move()\n",
    "my_dog.bark()\n"
   ]
  },
  {
   "cell_type": "markdown",
   "id": "1562807c",
   "metadata": {},
   "source": [
    "In this example, the Dog class inherits from the Animal class using the syntax class Dog(Animal):. The Dog class inherits the move() method from the Animal class, and it adds a new bark() method."
   ]
  },
  {
   "cell_type": "code",
   "execution_count": 3,
   "id": "42242012",
   "metadata": {},
   "outputs": [
    {
     "name": "stdout",
     "output_type": "stream",
     "text": [
      "Method 1\n",
      "Method 2\n",
      "Method 3\n"
     ]
    }
   ],
   "source": [
    "#Multiple Inheritance: In this type of inheritance, a child class \n",
    "# inherits from multiple parent classes.\n",
    "# Example:\n",
    "\n",
    "class A:\n",
    "    def method1(self):\n",
    "        print(\"Method 1\")\n",
    "\n",
    "class B:\n",
    "    def method2(self):\n",
    "        print(\"Method 2\")\n",
    "\n",
    "class C(A, B):\n",
    "    def method3(self):\n",
    "        print(\"Method 3\")\n",
    "\n",
    "my_object = C()\n",
    "my_object.method1()\n",
    "my_object.method2()\n",
    "my_object.method3()"
   ]
  },
  {
   "cell_type": "markdown",
   "id": "c2b42302",
   "metadata": {},
   "source": [
    "In this example, the C class inherits from both the A and B classes using the syntax class C(A, B):. The C class inherits the method1() and method2() methods from the A and B classes, respectively, and it adds a new method3() method."
   ]
  },
  {
   "cell_type": "code",
   "execution_count": 4,
   "id": "36f3139c",
   "metadata": {},
   "outputs": [
    {
     "name": "stdout",
     "output_type": "stream",
     "text": [
      "Moving...\n",
      "Woof!\n",
      "Moving...\n",
      "Meow!\n"
     ]
    }
   ],
   "source": [
    "#Hierarchical Inheritance: In this type of inheritance,\n",
    "#multiple child classes inherit from a single parent class.\n",
    "#Example:\n",
    "\n",
    "class Animal:\n",
    "    def move(self):\n",
    "        print(\"Moving...\")\n",
    "\n",
    "class Dog(Animal):\n",
    "    def bark(self):\n",
    "        print(\"Woof!\")\n",
    "\n",
    "class Cat(Animal):\n",
    "    def meow(self):\n",
    "        print(\"Meow!\")\n",
    "\n",
    "my_dog = Dog()\n",
    "my_dog.move()\n",
    "my_dog.bark()\n",
    "\n",
    "my_cat = Cat()\n",
    "my_cat.move()\n",
    "my_cat.meow()"
   ]
  },
  {
   "cell_type": "markdown",
   "id": "a0764057",
   "metadata": {},
   "source": [
    "In this example, both the Dog and Cat classes inherit from the Animal class using the syntax class Dog(Animal): and class Cat(Animal):, respectively. Both child classes inherit the move() method from the Animal class, and each adds a new method specific to the child class."
   ]
  },
  {
   "cell_type": "code",
   "execution_count": 5,
   "id": "f2ec7d8e",
   "metadata": {},
   "outputs": [
    {
     "name": "stdout",
     "output_type": "stream",
     "text": [
      "Starting the vehicle...\n",
      "Driving the Tesla Model S...\n",
      "Charging the Tesla Model S...\n"
     ]
    }
   ],
   "source": [
    "#Multilevel Inheritance: In this type of inheritance, a child class inherits from a \n",
    "#parent class, which in turn inherits from another parent class.\n",
    "#Example:\n",
    "class Vehicle:\n",
    "    def __init__(self, make, model, year):\n",
    "        self.make = make\n",
    "        self.model = model\n",
    "        self.year = year\n",
    "\n",
    "    def start(self):\n",
    "        print(\"Starting the vehicle...\")\n",
    "\n",
    "class Car(Vehicle):\n",
    "    def __init__(self, make, model, year, num_doors):\n",
    "        super().__init__(make, model, year)\n",
    "        self.num_doors = num_doors\n",
    "\n",
    "    def drive(self):\n",
    "        print(f\"Driving the {self.make} {self.model}...\")\n",
    "\n",
    "class ElectricCar(Car):\n",
    "    def __init__(self, make, model, year, num_doors, battery_capacity):\n",
    "        super().__init__(make, model, year, num_doors)\n",
    "        self.battery_capacity = battery_capacity\n",
    "\n",
    "    def charge(self):\n",
    "        print(f\"Charging the {self.make} {self.model}...\")\n",
    "\n",
    "my_car = ElectricCar(\"Tesla\", \"Model S\", 2021, 4, \"100 kWh\")\n",
    "my_car.start()\n",
    "my_car.drive()\n",
    "my_car.charge()"
   ]
  },
  {
   "cell_type": "markdown",
   "id": "012db579",
   "metadata": {},
   "source": [
    "In this example, the Vehicle class has an __init__() method to initialize the make, model, and year of the vehicle, as well as a start() method to start the vehicle. The Car class inherits from Vehicle and adds a drive() method to drive the car. The ElectricCar class inherits from Car and adds a charge() method to charge the electric car's battery.\n",
    "\n",
    "The __init__() method of the ElectricCar class uses the super() function to call the __init__() method of the parent Car class, which in turn calls the __init__() method of the Vehicle class. This initializes the make, model, year, and num_doors attributes of the ElectricCar object. The charge() method is specific to the ElectricCar class, while the start() and drive() methods are inherited from the parent classes."
   ]
  },
  {
   "cell_type": "code",
   "execution_count": null,
   "id": "75fb03bb",
   "metadata": {},
   "outputs": [],
   "source": []
  }
 ],
 "metadata": {
  "kernelspec": {
   "display_name": "Python 3 (ipykernel)",
   "language": "python",
   "name": "python3"
  },
  "language_info": {
   "codemirror_mode": {
    "name": "ipython",
    "version": 3
   },
   "file_extension": ".py",
   "mimetype": "text/x-python",
   "name": "python",
   "nbconvert_exporter": "python",
   "pygments_lexer": "ipython3",
   "version": "3.9.13"
  }
 },
 "nbformat": 4,
 "nbformat_minor": 5
}
