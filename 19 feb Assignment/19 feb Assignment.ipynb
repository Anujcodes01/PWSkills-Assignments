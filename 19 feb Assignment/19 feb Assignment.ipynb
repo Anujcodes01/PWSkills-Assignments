{
 "cells": [
  {
   "cell_type": "markdown",
   "id": "380022bf",
   "metadata": {},
   "source": [
    "#  Q1. What is Flask Framework? What are the advantages of Flask Framework?"
   ]
  },
  {
   "cell_type": "markdown",
   "id": "59d444f4",
   "metadata": {},
   "source": [
    "Flask is a micro web framework written in Python. It is designed to be lightweight and simple, allowing developers to build web applications quickly and efficiently. Flask follows the WSGI (Web Server Gateway Interface) specification and is often used in combination with the Werkzeug toolkit and the Jinja2 template engine.\n",
    "\n",
    "The advantages of Flask Framework include:\n",
    "\n",
    "1. Simplicity: Flask has a minimalistic design and a small core, making it easy to understand and use. It provides just the essentials for web development, allowing developers to focus on the specific requirements of their applications.\n",
    "\n",
    "2. Flexibility: Flask provides a flexible architecture that allows developers to choose the components they need for their projects. It does not impose any specific database, template engine, or other dependencies, giving developers the freedom to integrate their preferred tools.\n",
    "\n",
    "3. Extensibility: Flask is highly extensible through its modular design. Developers can easily add new features and functionalities by utilizing Flask extensions, which are available for various purposes such as database integration, authentication, and more.\n",
    "\n",
    "4. Lightweight: Due to its minimalist design, Flask has a small footprint and is efficient in terms of resource usage. This makes it suitable for developing applications that need to be deployed on limited resources or in environments with high traffic.\n",
    "\n",
    "5. Testing and Debugging: Flask provides built-in support for testing and debugging, making it easier to write unit tests and identify and fix issues during development. It includes a built-in development server that facilitates the testing and debugging process.\n",
    "\n",
    "6. Large Community and Ecosystem: Flask has a vibrant and active community of developers, which means there is extensive documentation, tutorials, and resources available. Additionally, Flask benefits from a rich ecosystem of third-party extensions and libraries developed by the community.\n",
    "\n",
    "These advantages make Flask a popular choice for building web applications, especially when simplicity, flexibility, and extensibility are key considerations."
   ]
  },
  {
   "cell_type": "markdown",
   "id": "fab8bbad",
   "metadata": {},
   "source": [
    " # Q2. Create a simple Flask application to display ‘Hello World!!’. Attach the screenshot of the output in Jupyter Notebook."
   ]
  },
  {
   "cell_type": "code",
   "execution_count": 1,
   "id": "b870166a",
   "metadata": {},
   "outputs": [
    {
     "name": "stdout",
     "output_type": "stream",
     "text": [
      "Defaulting to user installation because normal site-packages is not writeable\n",
      "Requirement already satisfied: flask in c:\\programdata\\anaconda3\\lib\\site-packages (1.1.2)\n",
      "Requirement already satisfied: Jinja2>=2.10.1 in c:\\programdata\\anaconda3\\lib\\site-packages (from flask) (2.11.3)\n",
      "Requirement already satisfied: Werkzeug>=0.15 in c:\\programdata\\anaconda3\\lib\\site-packages (from flask) (2.0.3)\n",
      "Requirement already satisfied: click>=5.1 in c:\\programdata\\anaconda3\\lib\\site-packages (from flask) (8.0.4)\n",
      "Requirement already satisfied: itsdangerous>=0.24 in c:\\programdata\\anaconda3\\lib\\site-packages (from flask) (2.0.1)\n",
      "Requirement already satisfied: colorama in c:\\programdata\\anaconda3\\lib\\site-packages (from click>=5.1->flask) (0.4.5)\n",
      "Requirement already satisfied: MarkupSafe>=0.23 in c:\\programdata\\anaconda3\\lib\\site-packages (from Jinja2>=2.10.1->flask) (2.0.1)\n",
      "Note: you may need to restart the kernel to use updated packages.\n"
     ]
    }
   ],
   "source": [
    "pip install flask"
   ]
  },
  {
   "cell_type": "code",
   "execution_count": 6,
   "id": "fadef620",
   "metadata": {},
   "outputs": [
    {
     "name": "stdout",
     "output_type": "stream",
     "text": [
      " * Serving Flask app \"__main__\" (lazy loading)\n",
      " * Environment: production\n",
      "\u001b[31m   WARNING: This is a development server. Do not use it in a production deployment.\u001b[0m\n",
      "\u001b[2m   Use a production WSGI server instead.\u001b[0m\n",
      " * Debug mode: off\n"
     ]
    },
    {
     "name": "stderr",
     "output_type": "stream",
     "text": [
      " * Running on all addresses.\n",
      "   WARNING: This is a development server. Do not use it in a production deployment.\n",
      " * Running on http://192.168.1.4:5000/ (Press CTRL+C to quit)\n",
      "192.168.1.4 - - [25/May/2023 10:38:40] \"GET / HTTP/1.1\" 200 -\n"
     ]
    }
   ],
   "source": [
    "# creating the page to display hello world\n",
    "\n",
    "# importing flask\n",
    "from flask import Flask\n",
    "\n",
    "# creating flask app object\n",
    "\n",
    "app = Flask(__name__)\n",
    "\n",
    "# creating routing decorator for homepage\n",
    "\n",
    "\n",
    "@app.route(\"/\")\n",
    "\n",
    "\n",
    "def hello_world():\n",
    "    \n",
    "    # the function prints hello world inside the flask web app center aligned\n",
    "    \n",
    "    return \"<h1 align='center'>Hello, World!</h1>\"\n",
    "\n",
    "\n",
    "# running the app\n",
    "\n",
    "if __name__==\"__main__\":\n",
    "    app.run(host = \"0.0.0.0\")"
   ]
  },
  {
   "cell_type": "markdown",
   "id": "addc7d8e",
   "metadata": {},
   "source": [
    "<img src='Screenshot 2023-05-25 103910.png' />"
   ]
  },
  {
   "cell_type": "markdown",
   "id": "8b5f4b64",
   "metadata": {},
   "source": [
    "# Q3. What is App routing in Flask? Why do we use app routes?"
   ]
  },
  {
   "cell_type": "markdown",
   "id": "2de65415",
   "metadata": {},
   "source": [
    "App routing in Flask refers to the process of defining URL routes or endpoints within a Flask application. It involves mapping specific URLs to corresponding Python functions that handle those routes. Flask uses decorators, such as `@app.route()`, to define routes.\n",
    "\n",
    "App routes are essential in Flask for several reasons:\n",
    "\n",
    "1. **URL Mapping**: App routes allow developers to map specific URLs to the corresponding functions that generate the desired responses. For example, you can define a route for the homepage (\"/\") and specify the function that should be executed when that URL is accessed.\n",
    "\n",
    "2. **Request Handling**: App routes enable Flask to handle different types of HTTP requests, such as GET, POST, PUT, DELETE, etc. Developers can define separate functions for each type of request associated with a specific route. This allows for proper handling of different user interactions.\n",
    "\n",
    "3. **Dynamic Content**: Flask app routes support dynamic URLs by utilizing parameters. Parameters can be defined within the route's URL pattern, allowing the extraction of values from the URL itself. These extracted values can be used as inputs for the corresponding function, enabling dynamic content generation.\n",
    "\n",
    "4. **URL Building**: Flask provides a URL building feature that generates URLs based on the defined routes. This feature simplifies the process of creating links between different pages within the application. Developers can use the `url_for()` function to generate URLs dynamically, ensuring consistency and avoiding hard-coding.\n",
    "\n",
    "Overall, app routes in Flask provide a structured way to handle and respond to different URLs and HTTP requests within a web application. They help organize the code, enable dynamic content generation, and facilitate URL mapping and building for efficient web development."
   ]
  },
  {
   "cell_type": "markdown",
   "id": "acce219d",
   "metadata": {},
   "source": [
    "# Q4.  Create a “/welcome” route to display the welcome message “Welcome to ABC Corporation” and a “/” route to show the following details:\n",
    "\n",
    "    Company Name: ABC Corporation\n",
    "\n",
    "    Location: India\n",
    "\n",
    "    Contact Detail: 999-999-9999 \n",
    "\n",
    "\n",
    "* Attach the screenshot of the output in Jupyter Notebook."
   ]
  },
  {
   "cell_type": "code",
   "execution_count": 10,
   "id": "a7723b74",
   "metadata": {},
   "outputs": [
    {
     "name": "stdout",
     "output_type": "stream",
     "text": [
      " * Serving Flask app \"__main__\" (lazy loading)\n",
      " * Environment: production\n",
      "\u001b[31m   WARNING: This is a development server. Do not use it in a production deployment.\u001b[0m\n",
      "\u001b[2m   Use a production WSGI server instead.\u001b[0m\n",
      " * Debug mode: off\n"
     ]
    },
    {
     "name": "stderr",
     "output_type": "stream",
     "text": [
      " * Running on all addresses.\n",
      "   WARNING: This is a development server. Do not use it in a production deployment.\n",
      " * Running on http://192.168.1.4:5000/ (Press CTRL+C to quit)\n",
      "192.168.1.4 - - [25/May/2023 10:58:10] \"GET / HTTP/1.1\" 200 -\n",
      "192.168.1.4 - - [25/May/2023 10:58:40] \"GET /welcome HTTP/1.1\" 200 -\n"
     ]
    }
   ],
   "source": [
    "\n",
    "# importing flask\n",
    "from flask import Flask\n",
    "\n",
    "# creating flask app object\n",
    "\n",
    "app = Flask(__name__)\n",
    "\n",
    "\n",
    "\n",
    " # creating routing decorator for welcome page\n",
    "\n",
    "\n",
    "@app.route(\"/welcome\")\n",
    "\n",
    "\n",
    "def ABC():\n",
    "\n",
    "    # the function prints hello world inside the flask web app center aligned\n",
    "\n",
    "    return \"<h1 align='center'>'Welcome to ABC Corporation'</h1>\"\n",
    "\n",
    "# creating homepage using routing decorator\n",
    "\n",
    "@app.route('/')\n",
    "\n",
    "def abc():\n",
    "    # this funtion prints company details\n",
    "    \n",
    "     # Creating HTML tags for company details\n",
    "    company_name = \"<h1>Company Name: ABC Corporation</h1>\"\n",
    "    location = \"<p>Location: India</p>\"\n",
    "    contact_detail = \"<p>Contact Detail: 999-999-9999</p>\"\n",
    "    \n",
    "    # Concatenating the HTML tags\n",
    "    html_content = company_name + location + contact_detail\n",
    "    \n",
    "    return html_content\n",
    "   \n",
    "\n",
    "\n",
    "# running the app\n",
    "\n",
    "if __name__==\"__main__\":\n",
    "    app.run(host = \"0.0.0.0\")"
   ]
  },
  {
   "cell_type": "markdown",
   "id": "ca2a17bc",
   "metadata": {},
   "source": [
    "<img src='Screenshot 2023-05-25 105831.png' />"
   ]
  },
  {
   "cell_type": "markdown",
   "id": "607491a8",
   "metadata": {},
   "source": [
    "<img src='Screenshot 2023-05-25 105848.png' />"
   ]
  },
  {
   "cell_type": "markdown",
   "id": "2e69a1cb",
   "metadata": {},
   "source": [
    "## Q5. What function is used in Flask for URL Building? Write a Python code to demonstrate the working of the  url_for() function"
   ]
  },
  {
   "cell_type": "markdown",
   "id": "40a028ac",
   "metadata": {},
   "source": [
    "The function used in Flask for URL building is called url_for(). It is a built-in Flask function that generates a URL for a given endpoint. This function takes the endpoint name as an argument and returns the corresponding URL.\n",
    "\n",
    "Here's an example of how to use the url_for() function in Python code:"
   ]
  },
  {
   "cell_type": "code",
   "execution_count": 13,
   "id": "dc2002c8",
   "metadata": {},
   "outputs": [
    {
     "name": "stdout",
     "output_type": "stream",
     "text": [
      "Home URL: /\n",
      "About URL: /school\n",
      "Contact URL: /contact\n"
     ]
    }
   ],
   "source": [
    "from flask import Flask, url_for\n",
    "\n",
    "app = Flask(__name__)\n",
    "\n",
    "@app.route('/')\n",
    "def home():\n",
    "    return 'Student page  '\n",
    "\n",
    "@app.route('/school')\n",
    "def school():\n",
    "\n",
    "    return 'School page '\n",
    "\n",
    "@app.route('/contact')\n",
    "def contact():\n",
    "    return 'Contact Page'\n",
    "\n",
    "if __name__ == '__main__':\n",
    "    with app.test_request_context():\n",
    "        # Generating URLs using url_for()\n",
    "        home_url = url_for('home')\n",
    "        about_url = url_for('school')\n",
    "        contact_url = url_for('contact')\n",
    "\n",
    "        print('Home URL:', home_url)\n",
    "        print('About URL:', about_url)\n",
    "        print('Contact URL:', contact_url)\n"
   ]
  },
  {
   "cell_type": "code",
   "execution_count": null,
   "id": "bcd66cba",
   "metadata": {},
   "outputs": [],
   "source": []
  }
 ],
 "metadata": {
  "kernelspec": {
   "display_name": "Python 3 (ipykernel)",
   "language": "python",
   "name": "python3"
  },
  "language_info": {
   "codemirror_mode": {
    "name": "ipython",
    "version": 3
   },
   "file_extension": ".py",
   "mimetype": "text/x-python",
   "name": "python",
   "nbconvert_exporter": "python",
   "pygments_lexer": "ipython3",
   "version": "3.9.13"
  }
 },
 "nbformat": 4,
 "nbformat_minor": 5
}
