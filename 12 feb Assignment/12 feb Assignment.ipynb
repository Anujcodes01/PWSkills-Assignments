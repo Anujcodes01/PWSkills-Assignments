{
 "cells": [
  {
   "cell_type": "code",
   "execution_count": 2,
   "id": "c090a379",
   "metadata": {},
   "outputs": [],
   "source": [
    "import logging\n",
    "logging.basicConfig(filename='TryExcept.log',level=logging.DEBUG,format= '%(asctime)s - %(name)s - %(levelname)s - %(message)s')"
   ]
  },
  {
   "cell_type": "markdown",
   "id": "359ad50f",
   "metadata": {},
   "source": [
    "# Q1. What is an Exception in python ? write the difference between Exceptions and Syntax error.\n"
   ]
  },
  {
   "cell_type": "markdown",
   "id": "7ca81b58",
   "metadata": {},
   "source": [
    "` An exception in Python is an event that occurs during the execution of a program, which disrupts the normal flow of the program's instructions. When an exception occurs, the program stops executing its current instructions and jumps to a special block of code called an exception handler.`\n",
    "\n",
    "Here are the main differences between exceptions and syntax errors in Python:\n",
    "\n",
    "1. Exceptions:\n",
    "   - Exceptions are runtime errors that occur while a program is running.\n",
    "   - They are typically caused by factors outside the programmer's control, such as user input, file availability, or network connections.\n",
    "   - Examples of exceptions include ValueError, TypeError, FileNotFoundError, and ZeroDivisionError.\n",
    "   - Exceptions can be caught and handled using try-except blocks to prevent the program from crashing.\n",
    "\n",
    "2. Syntax errors:\n",
    "   - Syntax errors are detected by the Python interpreter during the parsing or compilation phase before the program is executed.\n",
    "   - They occur when the code violates the language's syntax rules and cannot be interpreted correctly.\n",
    "   - Syntax errors are usually caused by mistakes made by the programmer, such as misspelled keywords, missing or mismatched parentheses, or incorrect indentation.\n",
    "   - Syntax errors prevent the program from running at all until they are fixed.\n",
    "\n",
    "`In summary, exceptions are runtime errors that occur during program execution and can be handled using exception handling mechanisms. On the other hand, syntax errors are detected by the Python interpreter before the program starts running and must be fixed before the program can be executed.`"
   ]
  },
  {
   "cell_type": "code",
   "execution_count": 2,
   "id": "cea15c00",
   "metadata": {},
   "outputs": [
    {
     "ename": "ZeroDivisionError",
     "evalue": "division by zero",
     "output_type": "error",
     "traceback": [
      "\u001b[1;31m---------------------------------------------------------------------------\u001b[0m",
      "\u001b[1;31mZeroDivisionError\u001b[0m                         Traceback (most recent call last)",
      "\u001b[1;32m~\\AppData\\Local\\Temp\\ipykernel_12796\\2570642240.py\u001b[0m in \u001b[0;36m<module>\u001b[1;34m\u001b[0m\n\u001b[0;32m      2\u001b[0m \u001b[0mlogging\u001b[0m\u001b[1;33m.\u001b[0m\u001b[0minfo\u001b[0m\u001b[1;33m(\u001b[0m\u001b[1;34m'This is Question 1 , Example 1'\u001b[0m\u001b[1;33m)\u001b[0m\u001b[1;33m\u001b[0m\u001b[1;33m\u001b[0m\u001b[0m\n\u001b[0;32m      3\u001b[0m \u001b[0ma\u001b[0m \u001b[1;33m=\u001b[0m \u001b[1;36m23\u001b[0m\u001b[1;33m\u001b[0m\u001b[1;33m\u001b[0m\u001b[0m\n\u001b[1;32m----> 4\u001b[1;33m \u001b[0ma\u001b[0m\u001b[1;33m/\u001b[0m\u001b[1;36m0\u001b[0m \u001b[1;31m#Division by zero is an exception\u001b[0m\u001b[1;33m\u001b[0m\u001b[1;33m\u001b[0m\u001b[0m\n\u001b[0m",
      "\u001b[1;31mZeroDivisionError\u001b[0m: division by zero"
     ]
    }
   ],
   "source": [
    "# Example of exception\n",
    "logging.info('This is Question 1 , Example 1')\n",
    "a = 23\n",
    "a/0 #Division by zero is an exception"
   ]
  },
  {
   "cell_type": "code",
   "execution_count": 4,
   "id": "f7170aff",
   "metadata": {},
   "outputs": [
    {
     "ename": "SyntaxError",
     "evalue": "Missing parentheses in call to 'print'. Did you mean print(a + b)? (1580224576.py, line 4)",
     "output_type": "error",
     "traceback": [
      "\u001b[1;36m  File \u001b[1;32m\"C:\\Users\\ASUS\\AppData\\Local\\Temp\\ipykernel_12796\\1580224576.py\"\u001b[1;36m, line \u001b[1;32m4\u001b[0m\n\u001b[1;33m    print a + b\u001b[0m\n\u001b[1;37m          ^\u001b[0m\n\u001b[1;31mSyntaxError\u001b[0m\u001b[1;31m:\u001b[0m Missing parentheses in call to 'print'. Did you mean print(a + b)?\n"
     ]
    }
   ],
   "source": [
    "# Example of syntax Error\n",
    "a = 3 \n",
    "b = 23\n",
    "print a + b"
   ]
  },
  {
   "cell_type": "markdown",
   "id": "d890529d",
   "metadata": {},
   "source": [
    "\n",
    "# Question 2: What happens if exception is not handled? Explain with an example."
   ]
  },
  {
   "cell_type": "markdown",
   "id": "5e296587",
   "metadata": {},
   "source": [
    "## Exception is not handled the code below the exception will not execute at all. "
   ]
  },
  {
   "cell_type": "code",
   "execution_count": 5,
   "id": "52680de0",
   "metadata": {},
   "outputs": [
    {
     "ename": "ZeroDivisionError",
     "evalue": "division by zero",
     "output_type": "error",
     "traceback": [
      "\u001b[1;31m---------------------------------------------------------------------------\u001b[0m",
      "\u001b[1;31mZeroDivisionError\u001b[0m                         Traceback (most recent call last)",
      "\u001b[1;32m~\\AppData\\Local\\Temp\\ipykernel_12796\\4264493120.py\u001b[0m in \u001b[0;36m<module>\u001b[1;34m\u001b[0m\n\u001b[0;32m      1\u001b[0m \u001b[0mlogging\u001b[0m\u001b[1;33m.\u001b[0m\u001b[0minfo\u001b[0m\u001b[1;33m(\u001b[0m\u001b[1;34m'This is Question 2 start'\u001b[0m\u001b[1;33m)\u001b[0m\u001b[1;33m\u001b[0m\u001b[1;33m\u001b[0m\u001b[0m\n\u001b[0;32m      2\u001b[0m \u001b[0ma\u001b[0m \u001b[1;33m=\u001b[0m \u001b[1;36m56\u001b[0m\u001b[1;33m\u001b[0m\u001b[1;33m\u001b[0m\u001b[0m\n\u001b[1;32m----> 3\u001b[1;33m \u001b[0mprint\u001b[0m\u001b[1;33m(\u001b[0m\u001b[0ma\u001b[0m\u001b[1;33m/\u001b[0m\u001b[1;36m0\u001b[0m\u001b[1;33m)\u001b[0m \u001b[1;31m# This will cause Zero Division Error\u001b[0m\u001b[1;33m\u001b[0m\u001b[1;33m\u001b[0m\u001b[0m\n\u001b[0m\u001b[0;32m      4\u001b[0m \u001b[0mprint\u001b[0m\u001b[1;33m(\u001b[0m\u001b[0ma\u001b[0m\u001b[1;33m+\u001b[0m\u001b[1;36m23\u001b[0m\u001b[1;33m)\u001b[0m \u001b[1;31m# None of these code and below lines will not excute because exception was not handled\u001b[0m\u001b[1;33m\u001b[0m\u001b[1;33m\u001b[0m\u001b[0m\n\u001b[0;32m      5\u001b[0m \u001b[0mprint\u001b[0m\u001b[1;33m(\u001b[0m\u001b[1;34m'This will not execute'\u001b[0m\u001b[1;33m)\u001b[0m \u001b[1;31m# Will not execute because exception not handled\u001b[0m\u001b[1;33m\u001b[0m\u001b[1;33m\u001b[0m\u001b[0m\n",
      "\u001b[1;31mZeroDivisionError\u001b[0m: division by zero"
     ]
    }
   ],
   "source": [
    "logging.info('This is Question 2 start')\n",
    "a = 56\n",
    "print(a/0) # This will cause Zero Division Error\n",
    "print(a+23) # None of these code and below lines will not excute because exception was not handled\n",
    "print('This will not execute') # Will not execute because exception not handled"
   ]
  },
  {
   "cell_type": "markdown",
   "id": "06f51da8",
   "metadata": {},
   "source": [
    "# Question 3: Which Python Statements are used to catch and handle exceptions? Explain with an example."
   ]
  },
  {
   "cell_type": "code",
   "execution_count": 9,
   "id": "260bc5a3",
   "metadata": {},
   "outputs": [
    {
     "name": "stdout",
     "output_type": "stream",
     "text": [
      "There is exception in this code: [Errno 2] No such file or directory: 'sample.txt'\n",
      "a=23, b= 45, a*b =1035\n"
     ]
    }
   ],
   "source": [
    "# I'm Creating a file example reading exception handling\n",
    "logging.info('This is Start of Question 3')\n",
    "\n",
    "try:\n",
    "\n",
    "    # This code will be tried for execution\n",
    "    with open('sample.txt','r') as f:\n",
    "        print(f.read())\n",
    "        logging.info('Try block from question 3 executed')\n",
    "except FileNotFoundError as e:\n",
    "    # Exception will be caught here and message will display\n",
    "    print('There is exception in this code:',e)\n",
    "    logging.exception('Except block from Question 3 executed')\n",
    "finally:\n",
    "    # This code will execute regardless wether try block executes or not\n",
    "    a = 23\n",
    "    b = 45\n",
    "    print(f'a={a}, b= {b}, a*b ={a*b}')\n",
    "    logging.info('Finally Block from Question 3 executed')\n"
   ]
  },
  {
   "cell_type": "markdown",
   "id": "2d62eece",
   "metadata": {},
   "source": [
    "# Question 4 : Explain with an example:\n",
    ".Try and else\n",
    ". finally\n",
    ". raise"
   ]
  },
  {
   "cell_type": "markdown",
   "id": "eb00cfb6",
   "metadata": {},
   "source": [
    "1. Try and else : Try block will execute if no exceptions. If no exceptions only then else block is executed.\n",
    "If exception occured except block will get executed"
   ]
  },
  {
   "cell_type": "code",
   "execution_count": 13,
   "id": "30d2c417",
   "metadata": {},
   "outputs": [],
   "source": [
    "\n",
    "logging.info('Question 4 is started ')\n",
    "\n",
    "def divide(a,b):\n",
    "    \"\"\"\n",
    "    This is division function with excption handling\n",
    "    \"\"\"\n",
    "    logging.info('This is Start of function divide')\n",
    "    try:\n",
    "        # Try block will execute if there is no exception\n",
    "        result = a/b\n",
    "        print('Try Block Executed.')\n",
    "        logging.info('Try Block executed')\n",
    "    except Exception as e:\n",
    "        # Except block will execute if exception found\n",
    "        print('Exception occured : ',e)\n",
    "        logging.exception('Except block executed')\n",
    "    else:\n",
    "        # This block will execute only if try block executed\n",
    "        print('Else Block Executed')\n",
    "        logging.info('Else Block executed')\n",
    "        return result\n",
    "        \n",
    "\n"
   ]
  },
  {
   "cell_type": "code",
   "execution_count": 17,
   "id": "47f9684b",
   "metadata": {},
   "outputs": [
    {
     "name": "stdout",
     "output_type": "stream",
     "text": [
      "Exception occured :  unsupported operand type(s) for /: 'int' and 'str'\n"
     ]
    }
   ],
   "source": [
    "divide(3,'0')"
   ]
  },
  {
   "cell_type": "code",
   "execution_count": 18,
   "id": "c19261b8",
   "metadata": {},
   "outputs": [
    {
     "name": "stdout",
     "output_type": "stream",
     "text": [
      "Exception occured :  division by zero\n"
     ]
    }
   ],
   "source": [
    "divide(3,0)"
   ]
  },
  {
   "cell_type": "code",
   "execution_count": 19,
   "id": "a0014e95",
   "metadata": {},
   "outputs": [
    {
     "name": "stdout",
     "output_type": "stream",
     "text": [
      "Try Block Executed.\n",
      "Else Block Executed\n"
     ]
    },
    {
     "data": {
      "text/plain": [
       "0.04477611940298507"
      ]
     },
     "execution_count": 19,
     "metadata": {},
     "output_type": "execute_result"
    }
   ],
   "source": [
    "divide(3,67)"
   ]
  },
  {
   "cell_type": "markdown",
   "id": "70b04afb",
   "metadata": {},
   "source": [
    "2. Finally : This code block will always execute .Regardless wether try, except, else blocks are executed\n",
    "\n"
   ]
  },
  {
   "cell_type": "code",
   "execution_count": 3,
   "id": "e1b8cf57",
   "metadata": {},
   "outputs": [
    {
     "name": "stdout",
     "output_type": "stream",
     "text": [
      "This Finally Block will always be executed\n"
     ]
    }
   ],
   "source": [
    "logging.info('Explaining Finally block code of Question 3')\n",
    "try:\n",
    "    # Try block executes if no exception occurs\n",
    "    a = 1\n",
    "    b = 'o'\n",
    "    c = a + b\n",
    "    print(c)\n",
    "    logging.info('Try Block executed')\n",
    "except Exception as e:\n",
    "    # Except block will execute if exception occurs\n",
    "\n",
    "    logging.exception('Except block executed{}'.format(e))\n",
    "finally:\n",
    "    # Finally Block will always execute regardless of exception found or not\n",
    "    logging.info('Finally Block executed')"
   ]
  },
  {
   "cell_type": "markdown",
   "id": "399d9c67",
   "metadata": {},
   "source": [
    "3. raise : Python raise Keyword is used to raise exceptions or errors. The raise keyword raises an error and stops the control flow of the program. It is used to bring up the current exception in an exception handler so that it can be handled further up the call stack."
   ]
  },
  {
   "cell_type": "code",
   "execution_count": 11,
   "id": "1574ff9d",
   "metadata": {},
   "outputs": [],
   "source": [
    "# this is a sqrt function which raise value error if number is negitive and Type error if its string .\n",
    "def calculate_square_root(number):\n",
    "    if number < 0:\n",
    "        raise ValueError(\"Cannot calculate square root of a negative number\")\n",
    "    \n",
    "    elif type(number)==str:\n",
    "        raise TypeError('you used a string ')\n",
    "    else:\n",
    "    \n",
    "        return math.sqrt(number)\n"
   ]
  },
  {
   "cell_type": "code",
   "execution_count": 16,
   "id": "a7e9e491",
   "metadata": {},
   "outputs": [
    {
     "name": "stdout",
     "output_type": "stream",
     "text": [
      "Square root: 2.0\n"
     ]
    }
   ],
   "source": [
    "import math\n",
    "# example \n",
    "try:\n",
    "    result = calculate_square_root(4)\n",
    "    print(\"Square root:\", result)\n",
    "    \n",
    "except TypeError as e:\n",
    "    logging.exception(\"Error:{}\".format(e))\n",
    "    \n",
    "except ValueError as e:\n",
    "    logging.exception(\"Error:{}\".format(e))"
   ]
  },
  {
   "cell_type": "markdown",
   "id": "f2b57568",
   "metadata": {},
   "source": [
    "## Question 5 : What are custom Exceptions in python ? Why do we need Custom Exceptions? Explain with an Example."
   ]
  },
  {
   "cell_type": "markdown",
   "id": "be4b0f1b",
   "metadata": {},
   "source": [
    "`Answer: Built-in exceptions offer information about Python-related problems, and custom exceptions will add information about project-related problems. Example percentage value should always be between 0 to 100\n",
    "Python detects all the critical errors that occur during Compile-time and Runtime. It stops the program's execution if the error occurs and raises an exception. Some commonly raised Exceptions are ArithmeticError, AttributeError, ImportError, IOError, FileNotFoundError, etc.`\n",
    "\n",
    "`Sometimes we must enforce constraints on the values that specific program variables can take or save the program from running into an undesired state. In such situations, Python allows programmers to create User-defined Exceptions. To create a User-defined Exception, we need to create a class directly or indirectly derived from the built-in Exception class.`"
   ]
  },
  {
   "cell_type": "code",
   "execution_count": 17,
   "id": "18051ef8",
   "metadata": {},
   "outputs": [],
   "source": [
    "# Creating a custom class for custom exception\n",
    "class pcterror(Exception):\n",
    "    def __init__(self,msg):\n",
    "        self.msg = msg"
   ]
  },
  {
   "cell_type": "code",
   "execution_count": 21,
   "id": "651058ac",
   "metadata": {},
   "outputs": [
    {
     "name": "stdout",
     "output_type": "stream",
     "text": [
      "Percentage marks of student is :  64\n"
     ]
    }
   ],
   "source": [
    "# Check if percentage marks of entered is valid or not\n",
    "# Case 1 : Percentage between 0 and 100\n",
    "logging.info('Question 5 , case 1 started')\n",
    "pct = 64\n",
    "# Below is custom exception which checks if percentage is in between 0 and 100\n",
    "if pct<0 or pct>100:\n",
    "    logging.error('Percentage not in range')\n",
    "    raise pcterror('Invalid percentage entered') \n",
    "else:\n",
    "    print('Percentage marks of student is : ',pct)\n",
    "    logging.info('No Error occured')"
   ]
  },
  {
   "cell_type": "code",
   "execution_count": 22,
   "id": "6473ae79",
   "metadata": {},
   "outputs": [
    {
     "ename": "pcterror",
     "evalue": "Invalid percentage entered",
     "output_type": "error",
     "traceback": [
      "\u001b[1;31m---------------------------------------------------------------------------\u001b[0m",
      "\u001b[1;31mpcterror\u001b[0m                                  Traceback (most recent call last)",
      "\u001b[1;32m~\\AppData\\Local\\Temp\\ipykernel_24264\\191983378.py\u001b[0m in \u001b[0;36m<module>\u001b[1;34m\u001b[0m\n\u001b[0;32m      5\u001b[0m \u001b[1;32mif\u001b[0m \u001b[0mpct\u001b[0m\u001b[1;33m<\u001b[0m\u001b[1;36m0\u001b[0m \u001b[1;32mor\u001b[0m \u001b[0mpct\u001b[0m\u001b[1;33m>\u001b[0m\u001b[1;36m100\u001b[0m\u001b[1;33m:\u001b[0m\u001b[1;33m\u001b[0m\u001b[1;33m\u001b[0m\u001b[0m\n\u001b[0;32m      6\u001b[0m     \u001b[0mlogging\u001b[0m\u001b[1;33m.\u001b[0m\u001b[0merror\u001b[0m\u001b[1;33m(\u001b[0m\u001b[1;34m'Percentage not in range'\u001b[0m\u001b[1;33m)\u001b[0m\u001b[1;33m\u001b[0m\u001b[1;33m\u001b[0m\u001b[0m\n\u001b[1;32m----> 7\u001b[1;33m     \u001b[1;32mraise\u001b[0m \u001b[0mpcterror\u001b[0m\u001b[1;33m(\u001b[0m\u001b[1;34m'Invalid percentage entered'\u001b[0m\u001b[1;33m)\u001b[0m\u001b[1;33m\u001b[0m\u001b[1;33m\u001b[0m\u001b[0m\n\u001b[0m\u001b[0;32m      8\u001b[0m \u001b[1;32melse\u001b[0m\u001b[1;33m:\u001b[0m\u001b[1;33m\u001b[0m\u001b[1;33m\u001b[0m\u001b[0m\n\u001b[0;32m      9\u001b[0m     \u001b[0mprint\u001b[0m\u001b[1;33m(\u001b[0m\u001b[1;34m'Percentage marks of student is : '\u001b[0m\u001b[1;33m,\u001b[0m\u001b[0mpct\u001b[0m\u001b[1;33m)\u001b[0m\u001b[1;33m\u001b[0m\u001b[1;33m\u001b[0m\u001b[0m\n",
      "\u001b[1;31mpcterror\u001b[0m: Invalid percentage entered"
     ]
    }
   ],
   "source": [
    "# Case 2 : Negative Percentage\n",
    "logging.info('Question 5 , case 2 started')\n",
    "pct = -20\n",
    "# Below is custom exception which checks if percentage is in between 0 and 100\n",
    "if pct<0 or pct>100:\n",
    "    logging.error('Percentage not in range')\n",
    "    raise pcterror('Invalid percentage entered') \n",
    "else:\n",
    "    print('Percentage marks of student is : ',pct)\n",
    "    logging.info('no error occured')"
   ]
  },
  {
   "cell_type": "markdown",
   "id": "8e839e8c",
   "metadata": {},
   "source": [
    "# Question 6 : Create a custom exception class . Use this class to handle exception"
   ]
  },
  {
   "cell_type": "code",
   "execution_count": 27,
   "id": "60a35674",
   "metadata": {},
   "outputs": [
    {
     "name": "stdout",
     "output_type": "stream",
     "text": [
      "Result: 3.3333333333333335\n"
     ]
    }
   ],
   "source": [
    "\n",
    "\n",
    "class CustomException(Exception):\n",
    "    \"\"\"Custom exception class for handling specific exceptions.\"\"\"\n",
    "    \n",
    "    def __init__(self, message):\n",
    "        \"\"\"Initialize the CustomException with a custom error message.\"\"\"\n",
    "        self.message = message\n",
    "        super().__init__(self.message)\n",
    "\n",
    "def divide_numbers(a, b):\n",
    "    \"\"\"Divides two numbers and raises a CustomException if the divisor is zero.\"\"\"\n",
    "    try:\n",
    "        if b == 0:\n",
    "            raise CustomException(\"Division by zero is not allowed.\")\n",
    "        else:\n",
    "            return a / b\n",
    "    except CustomException as e:\n",
    "        # Log the exception\n",
    "        logging.error(str(e))\n",
    "        raise\n",
    "\n",
    "try:\n",
    "    result = divide_numbers(10, 3)\n",
    "    print(\"Result:\", result)\n",
    "except CustomException as e:\n",
    "    \n",
    "    print(\"Error:\", str(e))"
   ]
  },
  {
   "cell_type": "code",
   "execution_count": 28,
   "id": "813e136d",
   "metadata": {},
   "outputs": [],
   "source": [
    "# Shutdown logging first\n",
    "logging.shutdown()"
   ]
  },
  {
   "cell_type": "code",
   "execution_count": 29,
   "id": "506eb2f2",
   "metadata": {},
   "outputs": [
    {
     "name": "stdout",
     "output_type": "stream",
     "text": [
      "2023-05-09 21:50:39,527 - root - INFO - This is Question 1 , Example 1\n",
      "2023-05-09 21:56:20,890 - root - INFO - This is Question 2 start\n",
      "2023-05-09 21:57:45,431 - parso.python.diff - DEBUG - diff parser start\n",
      "2023-05-09 21:57:45,431 - parso.python.diff - DEBUG - line_lengths old: 2; new: 1\n",
      "2023-05-09 21:57:45,431 - parso.python.diff - DEBUG - -> code[replace] old[1:2] new[1:1]\n",
      "2023-05-09 21:57:45,431 - parso.python.diff - DEBUG - parse_part from 1 to 1 (to 0 in part parser)\n",
      "2023-05-09 21:57:45,431 - parso.python.diff - DEBUG - diff parser end\n",
      "2023-05-09 21:59:19,480 - root - INFO - This is Start of Question 3\n",
      "2023-05-09 21:59:19,480 - root - ERROR - Except block from Question 3 executed\n",
      "Traceback (most recent call last):\n",
      "  File \"C:\\Users\\ASUS\\AppData\\Local\\Temp\\ipykernel_12796\\3002810753.py\", line 5, in <module>\n",
      "    with open('sample.txt','r') as f:\n",
      "FileNotFoundError: [Errno 2] No such file or directory: 'sample.txt'\n",
      "2023-05-09 21:59:19,480 - root - INFO - Finally Block from Question 3 executed\n",
      "2023-05-09 21:59:51,186 - root - INFO - This is Start of Question 3\n",
      "2023-05-09 22:00:16,290 - parso.python.diff - DEBUG - diff parser start\n",
      "2023-05-09 22:00:16,290 - parso.python.diff - DEBUG - line_lengths old: 1; new: 10\n",
      "2023-05-09 22:00:16,290 - parso.python.diff - DEBUG - -> code[replace] old[1:1] new[1:10]\n",
      "2023-05-09 22:00:16,290 - parso.python.diff - DEBUG - parse_part from 1 to 10 (to 9 in part parser)\n",
      "2023-05-09 22:00:16,290 - parso.python.diff - DEBUG - diff parser end\n",
      "2023-05-09 22:00:19,879 - root - INFO - This is Start of Question 3\n",
      "2023-05-09 22:00:19,879 - root - ERROR - Except block from Question 3 executed\n",
      "Traceback (most recent call last):\n",
      "  File \"C:\\Users\\ASUS\\AppData\\Local\\Temp\\ipykernel_12796\\1076845592.py\", line 7, in <module>\n",
      "    with open('sample.txt','r') as f:\n",
      "FileNotFoundError: [Errno 2] No such file or directory: 'sample.txt'\n",
      "2023-05-09 22:00:19,881 - root - INFO - Finally Block from Question 3 executed\n",
      "2023-05-09 22:06:42,130 - parso.python.diff - DEBUG - diff parser start\n",
      "2023-05-09 22:06:42,130 - parso.python.diff - DEBUG - line_lengths old: 10; new: 13\n",
      "2023-05-09 22:06:42,130 - parso.python.diff - DEBUG - -> code[replace] old[1:2] new[1:3]\n",
      "2023-05-09 22:06:42,130 - parso.python.diff - DEBUG - parse_part from 1 to 3 (to 4 in part parser)\n",
      "2023-05-09 22:06:42,130 - parso.python.diff - DEBUG - -> code[equal] old[3:3] new[4:4]\n",
      "2023-05-09 22:06:42,130 - parso.python.diff - DEBUG - parse_part from 4 to 13 (to 12 in part parser)\n",
      "2023-05-09 22:06:42,130 - parso.python.diff - DEBUG - -> code[replace] old[4:10] new[5:13]\n",
      "2023-05-09 22:06:42,130 - parso.python.diff - DEBUG - diff parser end\n",
      "2023-05-09 22:10:00,472 - parso.python.diff - DEBUG - diff parser start\n",
      "2023-05-09 22:10:00,472 - parso.python.diff - DEBUG - line_lengths old: 13; new: 18\n",
      "2023-05-09 22:10:00,476 - parso.python.diff - DEBUG - -> code[equal] old[1:12] new[1:12]\n",
      "2023-05-09 22:10:00,476 - parso.python.diff - DEBUG - copy old[1:12] new[1:8]\n",
      "2023-05-09 22:10:00,476 - parso.python.diff - DEBUG - parse_part from 9 to 18 (to 17 in part parser)\n",
      "2023-05-09 22:10:00,476 - parso.python.diff - DEBUG - -> code[replace] old[13:13] new[13:18]\n",
      "2023-05-09 22:10:00,476 - parso.python.diff - DEBUG - diff parser end\n",
      "2023-05-09 22:10:51,419 - root - INFO - Question 4 is started \n",
      "2023-05-09 22:11:03,355 - root - INFO - This is Start of function divide\n",
      "2023-05-09 22:11:03,355 - root - INFO - Try Block executed\n",
      "2023-05-09 22:11:03,355 - root - INFO - Else Block executed\n",
      "2023-05-09 22:11:14,884 - root - INFO - This is Start of function divide\n",
      "2023-05-09 22:11:14,888 - root - ERROR - Except block executed\n",
      "Traceback (most recent call last):\n",
      "  File \"C:\\Users\\ASUS\\AppData\\Local\\Temp\\ipykernel_12796\\3285088197.py\", line 12, in divide\n",
      "    result = a/b\n",
      "ZeroDivisionError: division by zero\n",
      "2023-05-09 22:11:25,881 - root - INFO - This is Start of function divide\n",
      "2023-05-09 22:11:25,881 - root - ERROR - Except block executed\n",
      "Traceback (most recent call last):\n",
      "  File \"C:\\Users\\ASUS\\AppData\\Local\\Temp\\ipykernel_12796\\3285088197.py\", line 12, in divide\n",
      "    result = a/b\n",
      "ZeroDivisionError: division by zero\n",
      "2023-05-09 22:11:30,712 - root - INFO - This is Start of function divide\n",
      "2023-05-09 22:11:30,712 - root - ERROR - Except block executed\n",
      "Traceback (most recent call last):\n",
      "  File \"C:\\Users\\ASUS\\AppData\\Local\\Temp\\ipykernel_12796\\3285088197.py\", line 12, in divide\n",
      "    result = a/b\n",
      "TypeError: unsupported operand type(s) for /: 'int' and 'str'\n",
      "2023-05-09 22:12:10,631 - root - INFO - This is Start of function divide\n",
      "2023-05-09 22:12:10,631 - root - ERROR - Except block executed\n",
      "Traceback (most recent call last):\n",
      "  File \"C:\\Users\\ASUS\\AppData\\Local\\Temp\\ipykernel_12796\\3285088197.py\", line 12, in divide\n",
      "    result = a/b\n",
      "ZeroDivisionError: division by zero\n",
      "2023-05-09 22:12:28,635 - root - INFO - This is Start of function divide\n",
      "2023-05-09 22:12:28,635 - root - INFO - Try Block executed\n",
      "2023-05-09 22:12:28,635 - root - INFO - Else Block executed\n",
      "2023-05-09 22:14:33,737 - root - INFO - Explaining Finally block code of Question 3\n",
      "2023-05-09 22:14:33,737 - root - ERROR - Except block executed\n",
      "Traceback (most recent call last):\n",
      "  File \"C:\\Users\\ASUS\\AppData\\Local\\Temp\\ipykernel_12796\\2074260654.py\", line 6, in <module>\n",
      "    c = a + b\n",
      "TypeError: unsupported operand type(s) for +: 'int' and 'str'\n",
      "2023-05-09 22:14:33,741 - root - INFO - Finally Block executed\n",
      "2023-05-09 22:14:40,410 - root - INFO - Explaining Finally block code of Question 3\n",
      "2023-05-09 22:14:40,410 - root - INFO - Try Block executed\n",
      "2023-05-09 22:14:40,410 - root - INFO - Finally Block executed\n",
      "2023-05-09 22:14:51,099 - root - INFO - Explaining Finally block code of Question 3\n",
      "2023-05-09 22:14:51,099 - root - INFO - Try Block executed\n",
      "2023-05-09 22:14:51,099 - root - INFO - Finally Block executed\n",
      "2023-05-09 22:15:04,626 - root - INFO - Explaining Finally block code of Question 3\n",
      "2023-05-09 22:15:04,626 - root - ERROR - Except block executed\n",
      "Traceback (most recent call last):\n",
      "  File \"C:\\Users\\ASUS\\AppData\\Local\\Temp\\ipykernel_12796\\3038546187.py\", line 6, in <module>\n",
      "    c = a + b\n",
      "TypeError: unsupported operand type(s) for +: 'int' and 'str'\n",
      "2023-05-09 22:15:04,630 - root - INFO - Finally Block executed\n",
      "2023-05-10 21:24:31,484 - root - INFO - Explaining Finally block code of Question 3\n",
      "2023-05-10 21:24:31,495 - root - ERROR - Except block executedunsupported operand type(s) for +: 'int' and 'str'\n",
      "Traceback (most recent call last):\n",
      "  File \"C:\\Users\\ASUS\\AppData\\Local\\Temp\\ipykernel_24264\\1079884232.py\", line 6, in <module>\n",
      "    c = a + b\n",
      "TypeError: unsupported operand type(s) for +: 'int' and 'str'\n",
      "2023-05-10 21:24:31,496 - root - INFO - Finally Block executed\n",
      "2023-05-10 22:02:02,543 - parso.cache - DEBUG - pickle loaded: C:\\ProgramData\\Anaconda3\\lib\\logging\\__init__.py\n",
      "2023-05-10 22:02:11,430 - parso.python.diff - DEBUG - diff parser start\n",
      "2023-05-10 22:02:11,431 - parso.python.diff - DEBUG - line_lengths old: 11; new: 11\n",
      "2023-05-10 22:02:11,432 - parso.python.diff - DEBUG - -> code[equal] old[1:10] new[1:10]\n",
      "2023-05-10 22:02:11,432 - parso.python.diff - DEBUG - parse_part from 1 to 5 (to 6 in part parser)\n",
      "2023-05-10 22:02:11,433 - parso.python.diff - DEBUG - parse_part from 6 to 11 (to 10 in part parser)\n",
      "2023-05-10 22:02:11,433 - parso.python.diff - DEBUG - -> code[replace] old[11:11] new[11:11]\n",
      "2023-05-10 22:02:11,433 - parso.python.diff - DEBUG - diff parser end\n",
      "2023-05-10 22:02:11,644 - parso.cache - DEBUG - pickle loaded: C:\\ProgramData\\Anaconda3\\lib\\site-packages\\jedi\\third_party\\typeshed\\stdlib\\3\\builtins.pyi\n",
      "2023-05-10 22:02:11,684 - parso.cache - DEBUG - pickle loaded: C:\\ProgramData\\Anaconda3\\lib\\site-packages\\jedi\\third_party\\typeshed\\stdlib\\3\\sys.pyi\n",
      "2023-05-10 22:02:23,397 - root - ERROR - Error:Cannot calculate square root of a negative number\n",
      "Traceback (most recent call last):\n",
      "  File \"C:\\Users\\ASUS\\AppData\\Local\\Temp\\ipykernel_24264\\158853422.py\", line 8, in <module>\n",
      "    result = calculate_square_root(-9)\n",
      "  File \"C:\\Users\\ASUS\\AppData\\Local\\Temp\\ipykernel_24264\\158853422.py\", line 3, in calculate_square_root\n",
      "    raise ValueError(\"Cannot calculate square root of a negative number\")\n",
      "ValueError: Cannot calculate square root of a negative number\n",
      "2023-05-10 22:02:39,511 - parso.python.diff - DEBUG - diff parser start\n",
      "2023-05-10 22:02:39,511 - parso.python.diff - DEBUG - line_lengths old: 11; new: 1\n",
      "2023-05-10 22:02:39,511 - parso.python.diff - DEBUG - -> code[replace] old[1:11] new[1:1]\n",
      "2023-05-10 22:02:39,512 - parso.python.diff - DEBUG - parse_part from 1 to 1 (to 0 in part parser)\n",
      "2023-05-10 22:02:39,512 - parso.python.diff - DEBUG - diff parser end\n",
      "2023-05-10 22:03:16,670 - parso.python.diff - DEBUG - diff parser start\n",
      "2023-05-10 22:03:16,671 - parso.python.diff - DEBUG - line_lengths old: 1; new: 11\n",
      "2023-05-10 22:03:16,671 - parso.python.diff - DEBUG - -> code[replace] old[1:1] new[1:11]\n",
      "2023-05-10 22:03:16,672 - parso.python.diff - DEBUG - parse_part from 1 to 11 (to 10 in part parser)\n",
      "2023-05-10 22:03:16,672 - parso.python.diff - DEBUG - diff parser end\n",
      "2023-05-10 22:03:21,015 - parso.python.diff - DEBUG - diff parser start\n",
      "2023-05-10 22:03:21,015 - parso.python.diff - DEBUG - line_lengths old: 11; new: 11\n",
      "2023-05-10 22:03:21,015 - parso.python.diff - DEBUG - -> code[equal] old[1:10] new[1:10]\n",
      "2023-05-10 22:03:21,018 - parso.python.diff - DEBUG - parse_part from 1 to 5 (to 6 in part parser)\n",
      "2023-05-10 22:03:21,019 - parso.python.diff - DEBUG - parse_part from 6 to 11 (to 10 in part parser)\n",
      "2023-05-10 22:03:21,019 - parso.python.diff - DEBUG - -> code[replace] old[11:11] new[11:11]\n",
      "2023-05-10 22:03:21,019 - parso.python.diff - DEBUG - diff parser end\n",
      "2023-05-10 22:03:38,757 - root - ERROR - Error:Cannot calculate square root of a negative number\n",
      "Traceback (most recent call last):\n",
      "  File \"C:\\Users\\ASUS\\AppData\\Local\\Temp\\ipykernel_24264\\2422016880.py\", line 8, in <module>\n",
      "    result = calculate_square_root(-9)\n",
      "  File \"C:\\Users\\ASUS\\AppData\\Local\\Temp\\ipykernel_24264\\2422016880.py\", line 3, in calculate_square_root\n",
      "    raise ValueError(\"Cannot calculate square root of a negative number\")\n",
      "ValueError: Cannot calculate square root of a negative number\n",
      "2023-05-10 22:04:19,867 - root - ERROR - Error:Cannot calculate square root of a negative number\n",
      "Traceback (most recent call last):\n",
      "  File \"C:\\Users\\ASUS\\AppData\\Local\\Temp\\ipykernel_24264\\3993444865.py\", line 2, in <module>\n",
      "    result = calculate_square_root(-9)\n",
      "  File \"C:\\Users\\ASUS\\AppData\\Local\\Temp\\ipykernel_24264\\241158002.py\", line 3, in calculate_square_root\n",
      "    raise ValueError(\"Cannot calculate square root of a negative number\")\n",
      "ValueError: Cannot calculate square root of a negative number\n",
      "2023-05-10 22:05:05,702 - parso.python.diff - DEBUG - diff parser start\n",
      "2023-05-10 22:05:05,702 - parso.python.diff - DEBUG - line_lengths old: 11; new: 6\n",
      "2023-05-10 22:05:05,702 - parso.python.diff - DEBUG - -> code[equal] old[1:3] new[1:3]\n",
      "2023-05-10 22:05:05,703 - parso.python.diff - DEBUG - parse_part from 1 to 6 (to 5 in part parser)\n",
      "2023-05-10 22:05:05,703 - parso.python.diff - DEBUG - -> code[delete] old[4:9] new[4:3]\n",
      "2023-05-10 22:05:05,703 - parso.python.diff - DEBUG - -> code[equal] old[10:10] new[4:4]\n",
      "2023-05-10 22:05:05,703 - parso.python.diff - DEBUG - -> code[replace] old[11:11] new[5:6]\n",
      "2023-05-10 22:05:05,704 - parso.python.diff - DEBUG - diff parser end\n",
      "2023-05-10 22:05:32,578 - root - ERROR - Error:Cannot calculate square root of a negative number\n",
      "Traceback (most recent call last):\n",
      "  File \"C:\\Users\\ASUS\\AppData\\Local\\Temp\\ipykernel_24264\\3993444865.py\", line 2, in <module>\n",
      "    result = calculate_square_root(-9)\n",
      "  File \"C:\\Users\\ASUS\\AppData\\Local\\Temp\\ipykernel_24264\\2421364995.py\", line 3, in calculate_square_root\n",
      "    raise ValueError(\"Cannot calculate square root of a negative number\")\n",
      "ValueError: Cannot calculate square root of a negative number\n",
      "2023-05-10 22:05:38,873 - root - ERROR - Error:'<' not supported between instances of 'str' and 'int'\n",
      "Traceback (most recent call last):\n",
      "  File \"C:\\Users\\ASUS\\AppData\\Local\\Temp\\ipykernel_24264\\3708324119.py\", line 2, in <module>\n",
      "    result = calculate_square_root('g')\n",
      "  File \"C:\\Users\\ASUS\\AppData\\Local\\Temp\\ipykernel_24264\\2421364995.py\", line 2, in calculate_square_root\n",
      "    if number < 0:\n",
      "TypeError: '<' not supported between instances of 'str' and 'int'\n",
      "2023-05-10 22:13:17,364 - root - INFO - Question 5 , case 1 started\n",
      "2023-05-10 22:13:17,365 - root - INFO - No Error occured\n",
      "2023-05-10 22:13:23,912 - root - INFO - Question 5 , case 1 started\n",
      "2023-05-10 22:13:23,912 - root - ERROR - Percentage not in range\n",
      "2023-05-10 22:14:12,080 - root - INFO - Question 5 , case 1 started\n",
      "2023-05-10 22:14:12,081 - root - ERROR - Percentage not in range\n",
      "2023-05-10 22:14:15,705 - root - INFO - Question 5 , case 1 started\n",
      "2023-05-10 22:14:15,705 - root - INFO - No Error occured\n",
      "2023-05-10 22:14:16,801 - root - INFO - Question 5 , case 2 started\n",
      "2023-05-10 22:14:16,801 - root - ERROR - Percentage not in range\n",
      "2023-05-10 22:19:25,444 - parso.python.diff - DEBUG - diff parser start\n",
      "2023-05-10 22:19:25,445 - parso.python.diff - DEBUG - line_lengths old: 6; new: 20\n",
      "2023-05-10 22:19:25,445 - parso.python.diff - DEBUG - -> code[replace] old[1:3] new[1:2]\n",
      "2023-05-10 22:19:25,446 - parso.python.diff - DEBUG - parse_part from 1 to 7 (to 8 in part parser)\n",
      "2023-05-10 22:19:25,446 - parso.python.diff - DEBUG - -> code[equal] old[4:4] new[3:3]\n",
      "2023-05-10 22:19:25,446 - parso.python.diff - DEBUG - -> code[replace] old[5:6] new[4:20]\n",
      "2023-05-10 22:19:25,448 - parso.python.diff - DEBUG - parse_part from 8 to 20 (to 19 in part parser)\n",
      "2023-05-10 22:19:25,448 - parso.python.diff - DEBUG - diff parser end\n",
      "2023-05-10 22:20:02,523 - parso.python.diff - DEBUG - diff parser start\n",
      "2023-05-10 22:20:02,524 - parso.python.diff - DEBUG - line_lengths old: 20; new: 20\n",
      "2023-05-10 22:20:02,524 - parso.python.diff - DEBUG - -> code[equal] old[1:19] new[1:19]\n",
      "2023-05-10 22:20:02,525 - parso.python.diff - DEBUG - copy old[1:14] new[1:10]\n",
      "2023-05-10 22:20:02,526 - parso.python.diff - DEBUG - parse_part from 11 to 15 (to 15 in part parser)\n",
      "2023-05-10 22:20:02,526 - parso.python.diff - DEBUG - parse_part from 16 to 20 (to 19 in part parser)\n",
      "2023-05-10 22:20:02,527 - parso.python.diff - DEBUG - -> code[replace] old[20:20] new[20:20]\n",
      "2023-05-10 22:20:02,527 - parso.python.diff - DEBUG - diff parser end\n",
      "2023-05-10 22:23:32,673 - root - ERROR - Division by zero is not allowed.\n",
      "\n"
     ]
    }
   ],
   "source": [
    "with open('TryExcept.log','r') as f:\n",
    "    print(f.read())"
   ]
  },
  {
   "cell_type": "code",
   "execution_count": 30,
   "id": "359df246",
   "metadata": {},
   "outputs": [
    {
     "data": {
      "text/plain": [
       "'TryExceptLog.txt'"
      ]
     },
     "execution_count": 30,
     "metadata": {},
     "output_type": "execute_result"
    }
   ],
   "source": [
    "# Copying log and saving as text file\n",
    "import shutil\n",
    "shutil.copy('TryExcept.log','TryExceptLog.txt')"
   ]
  },
  {
   "cell_type": "code",
   "execution_count": null,
   "id": "30cce182",
   "metadata": {},
   "outputs": [],
   "source": []
  }
 ],
 "metadata": {
  "kernelspec": {
   "display_name": "Python 3 (ipykernel)",
   "language": "python",
   "name": "python3"
  },
  "language_info": {
   "codemirror_mode": {
    "name": "ipython",
    "version": 3
   },
   "file_extension": ".py",
   "mimetype": "text/x-python",
   "name": "python",
   "nbconvert_exporter": "python",
   "pygments_lexer": "ipython3",
   "version": "3.9.13"
  }
 },
 "nbformat": 4,
 "nbformat_minor": 5
}
