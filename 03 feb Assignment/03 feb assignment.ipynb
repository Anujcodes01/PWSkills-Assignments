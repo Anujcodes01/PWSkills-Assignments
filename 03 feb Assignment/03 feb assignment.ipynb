{
 "cells": [
  {
   "cell_type": "markdown",
   "id": "d86de435",
   "metadata": {},
   "source": [
    "<a id=\"0\"></a>\n",
    "\n",
    "# <p style=\"padding:10px;background-color:#00CED1;font-family:newtimeroman;font-size:100%;text-align:center;border-radius: 10px 10px ;overflow:hidden;font-weight:50\">Assignment 4 - Anuj Dhyani</p>"
   ]
  },
  {
   "cell_type": "markdown",
   "id": "828a7d37",
   "metadata": {},
   "source": [
    "<a id=\"2\"></a>\n",
    "\n",
    "# <p style=\"padding:10px;background-color:#00FF00 ;margin:10;color:#000000;font-family:newtimeroman;font-size:100%;text-align:center;border-radius: 10px 10px ;overflow:hidden;font-weight:50\">Question 1</p>"
   ]
  },
  {
   "cell_type": "markdown",
   "id": "4f5cb935",
   "metadata": {},
   "source": [
    "## Q1. Which keyword is used to create a function? Create a function to return a list of odd numbers in the range of 1 to 25."
   ]
  },
  {
   "cell_type": "code",
   "execution_count": 16,
   "id": "84a4657b",
   "metadata": {},
   "outputs": [
    {
     "name": "stdout",
     "output_type": "stream",
     "text": [
      "[1, 3, 5, 7, 9, 11, 13, 15, 17, 19, 21, 23, 25]\n"
     ]
    }
   ],
   "source": [
    "def get_odd_numbers():\n",
    "    odd_numbers = []\n",
    "    for num in range(1, 26):\n",
    "        if num % 2 == 1:\n",
    "            odd_numbers.append(num)\n",
    "    return odd_numbers\n",
    "\n",
    "# Call the function and print the result\n",
    "print(get_odd_numbers())"
   ]
  },
  {
   "cell_type": "markdown",
   "id": "6964d198",
   "metadata": {},
   "source": [
    "<a id=\"2\"></a>\n",
    "\n",
    "# <p style=\"padding:10px;background-color:#00FF00 ;margin:10;color:#000000;font-family:newtimeroman;font-size:100%;text-align:center;border-radius: 10px 10px ;overflow:hidden;font-weight:50\">Question 2</p>"
   ]
  },
  {
   "cell_type": "markdown",
   "id": "10f5a535",
   "metadata": {},
   "source": [
    "## Q2. Why *args and **kwargs is used in some functions? Create a function each for *args and **kwargs to demonstrate their use."
   ]
  },
  {
   "cell_type": "code",
   "execution_count": 17,
   "id": "02311014",
   "metadata": {},
   "outputs": [
    {
     "data": {
      "text/plain": [
       "([34, 25, 25, 22, 52], 353, 'sir')"
      ]
     },
     "execution_count": 17,
     "metadata": {},
     "output_type": "execute_result"
    }
   ],
   "source": [
    "# *args and *kwargs is used when you don't know how many input a user can give.\n",
    "def lists(*args):\n",
    "    return args\n",
    "lists([34,25,25,22,52],353,'sir')"
   ]
  },
  {
   "cell_type": "code",
   "execution_count": 29,
   "id": "cb0e5bd0",
   "metadata": {},
   "outputs": [
    {
     "name": "stdout",
     "output_type": "stream",
     "text": [
      "name = Alice\n",
      "age = 30\n",
      "occupation = Engineer\n"
     ]
    }
   ],
   "source": [
    "def print_kwargs(**kwargs):\n",
    "    for key, value in kwargs.items():\n",
    "        print(f\"{key} = {value}\")\n",
    "\n",
    "# Call the function with keyword arguments\n",
    "print_kwargs(name=\"Alice\", age=30, occupation=\"Engineer\")"
   ]
  },
  {
   "cell_type": "markdown",
   "id": "a24fd879",
   "metadata": {},
   "source": [
    "<a id=\"2\"></a>\n",
    "\n",
    "# <p style=\"padding:10px;background-color:#00FF00 ;margin:10;color:#000000;font-family:newtimeroman;font-size:100%;text-align:center;border-radius: 10px 10px ;overflow:hidden;font-weight:50\">Question 3</p>"
   ]
  },
  {
   "cell_type": "markdown",
   "id": "3ab87bcb",
   "metadata": {},
   "source": [
    "Q3. What is an iterator in python? Name the method used to initialise the iterator object and the method\n",
    "used for iteration. Use these methods to print the first five elements of the given list [2, 4, 6, 8, 10, 12, 14,\n",
    "16, 18, 20]."
   ]
  },
  {
   "cell_type": "markdown",
   "id": "534cd9b1",
   "metadata": {},
   "source": [
    "* Answer = In Python, an iterator is an object that allows you to iterate over collections of data, such as lists, tuples, dictionaries, and sets. Python iterators implement the iterator design pattern,which allows you to traverse a container and access its elements."
   ]
  },
  {
   "cell_type": "markdown",
   "id": "f76bd336",
   "metadata": {},
   "source": [
    "To initialize an iterator object in Python, we can use the iter() method, which takes a collection as an argument and returns an iterator object. To iterate over the elements of an iterator object, we can use the next() method, which returns the next element in the collection."
   ]
  },
  {
   "cell_type": "code",
   "execution_count": 30,
   "id": "980d2eb9",
   "metadata": {},
   "outputs": [
    {
     "name": "stdout",
     "output_type": "stream",
     "text": [
      "2\n",
      "4\n",
      "6\n",
      "8\n",
      "10\n"
     ]
    }
   ],
   "source": [
    "my_list = [2, 4, 6, 8, 10, 12, 14, 16, 18, 20]\n",
    "\n",
    "# Initialize the iterator object\n",
    "my_iter = iter(my_list)\n",
    "\n",
    "# Iterate over the first five elements of the list\n",
    "for i in range(5):\n",
    "    print(next(my_iter))\n"
   ]
  },
  {
   "cell_type": "markdown",
   "id": "01e0eb35",
   "metadata": {},
   "source": [
    "<a id=\"2\"></a>\n",
    "\n",
    "# <p style=\"padding:10px;background-color:#00FF00 ;margin:10;color:#000000;font-family:newtimeroman;font-size:100%;text-align:center;border-radius: 10px 10px ;overflow:hidden;font-weight:50\">Question 4</p>"
   ]
  },
  {
   "cell_type": "markdown",
   "id": "9390e1a0",
   "metadata": {},
   "source": [
    "## Q4. What is a generator function in python? Why yield keyword is used? Give an example of a generator function."
   ]
  },
  {
   "cell_type": "markdown",
   "id": "5cfdbf83",
   "metadata": {},
   "source": [
    "\n",
    "Answer = In Python, a generator function is a type of function that generates an iterable sequence of values on the fly. Unlike regular functions that return a value and then exit, generator functions use the yield keyword to temporarily pause the execution and return a value. When the generator function is called again, it continues the execution from where it left off and generates the next value in the sequence, and the process repeats until there are no more values left to generate.\n",
    "\n",
    "The yield keyword is used in a generator function to produce a value that can be iterated over. Each time the yield keyword is encountered in the function, the function's state is saved, and the yielded value is returned to the caller. When the generator function is called again, it continues executing from where it left off and continues yielding values."
   ]
  },
  {
   "cell_type": "code",
   "execution_count": 31,
   "id": "db31e206",
   "metadata": {},
   "outputs": [
    {
     "name": "stdout",
     "output_type": "stream",
     "text": [
      "0\n",
      "2\n",
      "4\n",
      "6\n",
      "8\n",
      "10\n"
     ]
    }
   ],
   "source": [
    "# Here's an example of a generator function that generates a sequence of even numbers:\n",
    "\n",
    "def even_numbers(n):\n",
    "    for i in range(0, n+1, 2):\n",
    "        yield i\n",
    "\n",
    "# Create a generator object from the generator function\n",
    "evens = even_numbers(10)\n",
    "\n",
    "# Use the generator object to print the even numbers\n",
    "for num in evens:\n",
    "    print(num)"
   ]
  },
  {
   "cell_type": "markdown",
   "id": "83f5bbd6",
   "metadata": {},
   "source": [
    "<a id=\"2\"></a>\n",
    "\n",
    "# <p style=\"padding:10px;background-color:#00FF00 ;margin:10;color:#000000;font-family:newtimeroman;font-size:100%;text-align:center;border-radius: 10px 10px ;overflow:hidden;font-weight:50\">Question 5</p>"
   ]
  },
  {
   "cell_type": "markdown",
   "id": "9ae5d04d",
   "metadata": {},
   "source": [
    "## Q5. Create a generator function for prime numbers less than 1000. Use the next() method to print the first 20 prime numbers."
   ]
  },
  {
   "cell_type": "code",
   "execution_count": 32,
   "id": "c64034ca",
   "metadata": {},
   "outputs": [
    {
     "name": "stdout",
     "output_type": "stream",
     "text": [
      "2\n",
      "3\n",
      "5\n",
      "7\n",
      "11\n",
      "13\n",
      "17\n",
      "19\n",
      "23\n",
      "29\n",
      "31\n",
      "37\n",
      "41\n",
      "43\n",
      "47\n",
      "53\n",
      "59\n",
      "61\n",
      "67\n",
      "71\n"
     ]
    }
   ],
   "source": [
    "def primes():\n",
    "    yield 2 # 2 is the first prime number\n",
    "    num = 3 # Start checking from 3\n",
    "    while num < 1000:\n",
    "        # Check if num is prime\n",
    "        for i in range(2, int(num ** 0.5) + 1):\n",
    "            if num % i == 0:\n",
    "                break\n",
    "        else:\n",
    "            yield num # If num is prime, yield it\n",
    "        num += 2 # Only check odd numbers\n",
    "\n",
    "# Create a generator object from the generator function\n",
    "prime_generator = primes()\n",
    "\n",
    "# Print the first 20 prime numbers\n",
    "for i in range(20):\n",
    "    print(next(prime_generator))"
   ]
  },
  {
   "cell_type": "markdown",
   "id": "2c200440",
   "metadata": {},
   "source": [
    "<a id=\"2\"></a>\n",
    "\n",
    "# <p style=\"padding:10px;background-color:#00FF00 ;margin:10;color:#000000;font-family:newtimeroman;font-size:100%;text-align:center;border-radius: 10px 10px ;overflow:hidden;font-weight:50\">Question 6</p>"
   ]
  },
  {
   "cell_type": "markdown",
   "id": "a1fb22ff",
   "metadata": {},
   "source": [
    "## Q6. Write a python program to print the first 10 Fibonacci numbers using a while loop."
   ]
  },
  {
   "cell_type": "code",
   "execution_count": 42,
   "id": "511186ef",
   "metadata": {},
   "outputs": [
    {
     "name": "stdout",
     "output_type": "stream",
     "text": [
      "1\n",
      "2\n",
      "3\n",
      "5\n",
      "8\n",
      "13\n",
      "21\n",
      "34\n",
      "55\n",
      "89\n"
     ]
    }
   ],
   "source": [
    "# Initialize the first two numbers of the sequence\n",
    "num1, num2 = 0, 1\n",
    "\n",
    "# Loop 10 times to print the first 10 Fibonacci numbers\n",
    "for i in range(10):\n",
    "   \n",
    "    # Calculate the next number in the sequence\n",
    "    next_num = num1 + num2\n",
    "    \n",
    "     # Print the current number\n",
    "    print(next_num)\n",
    "\n",
    "    # Update the values of num1 and num2 for the next iteration\n",
    "    num1 = num2\n",
    "    num2 = next_num"
   ]
  },
  {
   "cell_type": "markdown",
   "id": "afcab246",
   "metadata": {},
   "source": [
    "<a id=\"2\"></a>\n",
    "\n",
    "# <p style=\"padding:10px;background-color:#00FF00 ;margin:10;color:#000000;font-family:newtimeroman;font-size:100%;text-align:center;border-radius: 10px 10px ;overflow:hidden;font-weight:50\">Question 7</p>"
   ]
  },
  {
   "cell_type": "markdown",
   "id": "f17875c4",
   "metadata": {},
   "source": [
    "## Q7. Write a List Comprehension to iterate through the given string: ‘pwskills’.Expected output: ['p', 'w', 's', 'k', 'i', 'l', 'l', 's']"
   ]
  },
  {
   "cell_type": "code",
   "execution_count": 44,
   "id": "a086214e",
   "metadata": {},
   "outputs": [
    {
     "data": {
      "text/plain": [
       "['p', 'w', 's', 'k', 'i', 'l', 'l', 's']"
      ]
     },
     "execution_count": 44,
     "metadata": {},
     "output_type": "execute_result"
    }
   ],
   "source": [
    "[i for i in 'pwskills']"
   ]
  },
  {
   "cell_type": "markdown",
   "id": "d81a21e5",
   "metadata": {},
   "source": [
    "<a id=\"2\"></a>\n",
    "\n",
    "# <p style=\"padding:10px;background-color:#00FF00 ;margin:10;color:#000000;font-family:newtimeroman;font-size:100%;text-align:center;border-radius: 10px 10px ;overflow:hidden;font-weight:50\">Question 8</p>"
   ]
  },
  {
   "cell_type": "markdown",
   "id": "862587fa",
   "metadata": {},
   "source": [
    "## Q8. Write a python program to check whether a given number is Palindrome or not using a while loop."
   ]
  },
  {
   "cell_type": "code",
   "execution_count": 48,
   "id": "e3ab955d",
   "metadata": {},
   "outputs": [
    {
     "name": "stdout",
     "output_type": "stream",
     "text": [
      "Enter a number: 78988987\n",
      "78988987 is a palindrome.\n"
     ]
    }
   ],
   "source": [
    "# Take input from the user\n",
    "num = int(input(\"Enter a number: \"))\n",
    "\n",
    "# Make a copy of the original number\n",
    "original_num = num\n",
    "\n",
    "# Initialize the reverse number to 0\n",
    "reverse_num = 0\n",
    "\n",
    "# Reverse the digits of the number using a while loop\n",
    "while num > 0:\n",
    "    # Get the last digit of the number\n",
    "    last_digit = num % 10\n",
    "\n",
    "    # Append the last digit to the reverse number\n",
    "    reverse_num = (reverse_num * 10) + last_digit\n",
    "\n",
    "    # Remove the last digit from the number\n",
    "    num = num // 10\n",
    "\n",
    "# Check if the original number is equal to the reverse number\n",
    "if original_num == reverse_num:\n",
    "    print(original_num, \"is a palindrome.\")\n",
    "else:\n",
    "    print(original_num, \"is not a palindrome.\")"
   ]
  },
  {
   "cell_type": "markdown",
   "id": "abb4dac0",
   "metadata": {},
   "source": [
    "<a id=\"2\"></a>\n",
    "\n",
    "# <p style=\"padding:10px;background-color:#00FF00 ;margin:10;color:#000000;font-family:newtimeroman;font-size:100%;text-align:center;border-radius: 10px 10px ;overflow:hidden;font-weight:50\">Question 9</p>"
   ]
  },
  {
   "cell_type": "markdown",
   "id": "572ac3cb",
   "metadata": {},
   "source": [
    "## Q9. Write a code to print odd numbers from 1 to 100 using list comprehension."
   ]
  },
  {
   "cell_type": "code",
   "execution_count": 49,
   "id": "7cb8cdef",
   "metadata": {},
   "outputs": [
    {
     "name": "stdout",
     "output_type": "stream",
     "text": [
      "[1, 3, 5, 7, 9, 11, 13, 15, 17, 19, 21, 23, 25, 27, 29, 31, 33, 35, 37, 39, 41, 43, 45, 47, 49, 51, 53, 55, 57, 59, 61, 63, 65, 67, 69, 71, 73, 75, 77, 79, 81, 83, 85, 87, 89, 91, 93, 95, 97, 99]\n"
     ]
    }
   ],
   "source": [
    "# Use list comprehension to create a list of numbers from 1 to 100\n",
    "num_list = [num for num in range(1, 101)]\n",
    "\n",
    "# Use another list comprehension to filter out the odd numbers\n",
    "odd_nums = [num for num in num_list if num % 2 != 0]\n",
    "\n",
    "# Print the odd numbers\n",
    "print(odd_nums)"
   ]
  },
  {
   "cell_type": "code",
   "execution_count": null,
   "id": "abe40a4b",
   "metadata": {},
   "outputs": [],
   "source": []
  }
 ],
 "metadata": {
  "kernelspec": {
   "display_name": "Python 3 (ipykernel)",
   "language": "python",
   "name": "python3"
  },
  "language_info": {
   "codemirror_mode": {
    "name": "ipython",
    "version": 3
   },
   "file_extension": ".py",
   "mimetype": "text/x-python",
   "name": "python",
   "nbconvert_exporter": "python",
   "pygments_lexer": "ipython3",
   "version": "3.9.13"
  }
 },
 "nbformat": 4,
 "nbformat_minor": 5
}
