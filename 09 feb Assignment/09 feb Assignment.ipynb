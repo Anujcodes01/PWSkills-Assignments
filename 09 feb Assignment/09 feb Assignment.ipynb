{
 "cells": [
  {
   "cell_type": "markdown",
   "id": "8c69db24",
   "metadata": {},
   "source": [
    "## Q1, Create a vehicle class with an init method having instance variables as name_of_vehicle, max_speed and average_of_vehicle."
   ]
  },
  {
   "cell_type": "code",
   "execution_count": 6,
   "id": "812e1838",
   "metadata": {},
   "outputs": [],
   "source": [
    "class  Vehicle :\n",
    "    \n",
    "    \n",
    "    def __init__(self,name_of_vehicle,max_speed,average_of_vehicle):\n",
    "    \n",
    "        self.name_of_vehicle = name_of_vehicle\n",
    "        self.max_speed = max_speed\n",
    "        self.average_of_vehicle = average_of_vehicle\n",
    "\n",
    "    "
   ]
  },
  {
   "cell_type": "code",
   "execution_count": 10,
   "id": "edcea293",
   "metadata": {},
   "outputs": [
    {
     "name": "stdout",
     "output_type": "stream",
     "text": [
      "Supra 350 10\n"
     ]
    }
   ],
   "source": [
    "CAR = Vehicle('Supra',350,10)\n",
    "\n",
    "\n",
    "print(CAR.name_of_vehicle,CAR.max_speed,CAR.average_of_vehicle)"
   ]
  },
  {
   "cell_type": "markdown",
   "id": "efc56355",
   "metadata": {},
   "source": [
    "## Q2. Create a child class car from the vehicle class created in Que 1, which will inherit the vehicle class. Create a method named seating_capacity which takes capacity as an argument and returns the name of the vehicle and its seating capacity."
   ]
  },
  {
   "cell_type": "code",
   "execution_count": 21,
   "id": "159e48a8",
   "metadata": {},
   "outputs": [],
   "source": [
    "class car(vehicle):\n",
    "\n",
    "    def seating_capacity(self,seating_capacity):\n",
    "        \"\"\"\n",
    "        This function takes capacity as argument \n",
    "        and returns vehicle name and seating capacity\n",
    "        \"\"\"\n",
    "        self.seating_capacity = seating_capacity\n",
    "        return self.name_of_vehicle, self.seating_capacity"
   ]
  },
  {
   "cell_type": "code",
   "execution_count": 22,
   "id": "3b75a6d4",
   "metadata": {},
   "outputs": [],
   "source": [
    "cars = car('toyota fortuner',250,20)"
   ]
  },
  {
   "cell_type": "code",
   "execution_count": 23,
   "id": "a39f9f77",
   "metadata": {},
   "outputs": [
    {
     "data": {
      "text/plain": [
       "('toyota fortuner', 7)"
      ]
     },
     "execution_count": 23,
     "metadata": {},
     "output_type": "execute_result"
    }
   ],
   "source": [
    "cars.seating_capacity(7)"
   ]
  },
  {
   "cell_type": "markdown",
   "id": "aded93f2",
   "metadata": {},
   "source": [
    "# Q3. What is multiple inheritance? Write a python code to demonstrate multiple inheritance."
   ]
  },
  {
   "cell_type": "markdown",
   "id": "0e34c1e2",
   "metadata": {},
   "source": [
    "**if a child class inherits from more than one class, i.e. this child class is derived from multiple classes, we call it multiple inheritance in Python.**"
   ]
  },
  {
   "cell_type": "code",
   "execution_count": 31,
   "id": "185df125",
   "metadata": {},
   "outputs": [],
   "source": [
    "#example of multiple inheritance\n",
    "\n",
    "class TeamIndia():\n",
    "    \n",
    "    def playerofindia(self):\n",
    "        print('virat plays for india ')\n",
    "\n",
    "class Rcb():\n",
    "    \n",
    "    def playerofrcb(self):\n",
    "        print('virat plays for rcb')\n",
    "        \n",
    "        \n",
    "class Virat(TeamIndia,Rcb):\n",
    "    \n",
    "    def batsman(self):\n",
    "        \n",
    "        print('great batsman')"
   ]
  },
  {
   "cell_type": "code",
   "execution_count": 25,
   "id": "5c0e4d99",
   "metadata": {},
   "outputs": [],
   "source": [
    "kingkohli = Virat()"
   ]
  },
  {
   "cell_type": "code",
   "execution_count": 30,
   "id": "8a24618e",
   "metadata": {},
   "outputs": [
    {
     "name": "stdout",
     "output_type": "stream",
     "text": [
      "virat plays for india \n",
      "virat plays for rcb\n",
      "great batsman\n"
     ]
    }
   ],
   "source": [
    "kingkohli.playerofindia()\n",
    "\n",
    "kingkohli.playerofrcb()\n",
    "\n",
    "kingkohli.batsman()"
   ]
  },
  {
   "cell_type": "markdown",
   "id": "4807f96d",
   "metadata": {},
   "source": [
    "## Q4. What are getter and setter in python? Create a class and create a getter and a setter method in this class."
   ]
  },
  {
   "cell_type": "markdown",
   "id": "5156af4e",
   "metadata": {},
   "source": [
    "Getter and setter methods are a common pattern used in object-oriented programming to control access to an object's attributes (or properties) by providing methods to retrieve (get) and modify (set) the attribute values.\n",
    "\n",
    "- Getter: A getter method, also known as an accessor method, is used to retrieve the value of an attribute. It typically has a naming convention of \"get_attribute\" or simply \"attribute\". Getters provide read-only access to the attribute, allowing other parts of the program to obtain the value without directly accessing the attribute itself.\n",
    "\n",
    "- Setter: A setter method, also known as a mutator method, is used to modify the value of an attribute. It usually has a naming convention of \"set_attribute\". Setters provide a controlled way to update the attribute, allowing validation, data manipulation, or any other custom logic to be applied before setting the new value.\n",
    "\n",
    "By using getters and setters, you can encapsulate the internal state of an object and ensure that its attributes are accessed and modified through well-defined methods. This promotes data abstraction, encapsulation, and allows you to enforce rules and constraints on attribute access."
   ]
  },
  {
   "cell_type": "code",
   "execution_count": 51,
   "id": "537c5dc1",
   "metadata": {},
   "outputs": [],
   "source": [
    "## getter and setter \n",
    "class Rcb:\n",
    "    def Rcb_Trophy(self,trophy):\n",
    "        # private the element by using double underscore in front\n",
    "        self.__trophy = trophy\n",
    "        \n",
    "    # getter    \n",
    "    def get_trophy(self):\n",
    "        \n",
    "        return self.__trophy\n",
    "    # setter    \n",
    "    def set_trophy(self):\n",
    "        champion = 1\n",
    "        \n",
    "        self.__trophy = self.__trophy + champion\n",
    "        return 'ee sala cup namde', self.__trophy\n",
    "     "
   ]
  },
  {
   "cell_type": "code",
   "execution_count": 52,
   "id": "7126ba05",
   "metadata": {},
   "outputs": [],
   "source": [
    "rcb = Rcb()"
   ]
  },
  {
   "cell_type": "code",
   "execution_count": 53,
   "id": "e2691356",
   "metadata": {},
   "outputs": [],
   "source": [
    "rcb.Rcb_Trophy(0)"
   ]
  },
  {
   "cell_type": "code",
   "execution_count": 54,
   "id": "fb7a1cbd",
   "metadata": {},
   "outputs": [
    {
     "data": {
      "text/plain": [
       "0"
      ]
     },
     "execution_count": 54,
     "metadata": {},
     "output_type": "execute_result"
    }
   ],
   "source": [
    "rcb.get_trophy()"
   ]
  },
  {
   "cell_type": "code",
   "execution_count": 55,
   "id": "e25690bd",
   "metadata": {},
   "outputs": [
    {
     "data": {
      "text/plain": [
       "('ee sala cup namde', 1)"
      ]
     },
     "execution_count": 55,
     "metadata": {},
     "output_type": "execute_result"
    }
   ],
   "source": [
    "rcb.set_trophy()"
   ]
  },
  {
   "cell_type": "markdown",
   "id": "2676cb51",
   "metadata": {},
   "source": [
    "## Q5.What is method overriding in python? Write a python code to demonstrate method overriding."
   ]
  },
  {
   "cell_type": "markdown",
   "id": "6b1b44d1",
   "metadata": {},
   "source": [
    "**Method overriding is a concept in object-oriented programming where a subclass provides its own implementation of a method that is already defined in its superclass. When a method with the same name exists in both the superclass and the subclass, the subclass version of the method overrides the implementation inherited from the superclass.**"
   ]
  },
  {
   "cell_type": "code",
   "execution_count": 63,
   "id": "6d97ed5e",
   "metadata": {},
   "outputs": [
    {
     "name": "stdout",
     "output_type": "stream",
     "text": [
      "Bark!\n",
      "Meow!\n"
     ]
    }
   ],
   "source": [
    "class Animal:\n",
    "    def make_sound(self):\n",
    "        print(\"Generic animal sound\")\n",
    "\n",
    "class Dog(Animal):\n",
    "    def make_sound(self):\n",
    "        print(\"Bark!\")\n",
    "\n",
    "class Cat(Animal):\n",
    "    def make_sound(self):\n",
    "        print(\"Meow!\")\n",
    "\n",
    "# Create instances of the subclasses\n",
    "dog = Dog()\n",
    "cat = Cat()\n",
    "\n",
    "# Method calls demonstrate method overriding\n",
    "dog.make_sound()  \n",
    "cat.make_sound()  \n"
   ]
  },
  {
   "cell_type": "code",
   "execution_count": null,
   "id": "59790b90",
   "metadata": {},
   "outputs": [],
   "source": []
  },
  {
   "cell_type": "code",
   "execution_count": null,
   "id": "e0814dbb",
   "metadata": {},
   "outputs": [],
   "source": []
  }
 ],
 "metadata": {
  "kernelspec": {
   "display_name": "Python 3 (ipykernel)",
   "language": "python",
   "name": "python3"
  },
  "language_info": {
   "codemirror_mode": {
    "name": "ipython",
    "version": 3
   },
   "file_extension": ".py",
   "mimetype": "text/x-python",
   "name": "python",
   "nbconvert_exporter": "python",
   "pygments_lexer": "ipython3",
   "version": "3.9.13"
  }
 },
 "nbformat": 4,
 "nbformat_minor": 5
}
