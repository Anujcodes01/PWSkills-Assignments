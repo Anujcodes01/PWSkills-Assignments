{
 "cells": [
  {
   "cell_type": "markdown",
   "id": "ef334e93",
   "metadata": {},
   "source": [
    "## Q1. Which function is used to open a file? What are the different modes of opening a file? Explain each mode of file opening."
   ]
  },
  {
   "cell_type": "markdown",
   "id": "23cb77c0",
   "metadata": {},
   "source": [
    "*Files in Python can be opened with a built-in open() function\n",
    "Syntax : open(file_address, access_mode)*\n",
    ".\\\n",
    "\n",
    "\n",
    "1. Read Mode (mode='r'): This mode is used when you want to read data from a file. The file must exist, otherwise, an error will occur. When a file is opened in read mode, you can only perform read operations on it, and attempting to write to the file will result in an error.\n",
    "\n",
    "2. Write Mode (mode='w'): This mode is used when you want to write data to a file. If the file does not exist, it will be created. If the file already exists, its previous contents will be deleted and overwritten. When a file is opened in write mode, you can only perform write operations on it, and attempts to read from the file will result in an error.\n",
    "\n",
    "3. Append Mode (mode='a'): This mode is used when you want to append data to an existing file. If the file does not exist, it will be created. When a file is opened in append mode, new data can be written at the end of the file, without overwriting the existing contents. You cannot perform read operations on a file opened in append mode.\n",
    "\n",
    "4. Read and Write Mode (mode='r+'): This mode allows you to read and write to a file. The file must exist; otherwise, an error will occur. When a file is opened in read and write mode, you can perform both read and write operations on it.\n",
    "\n",
    "5. Write and Read Mode (mode='w+'): This mode is similar to the read and write mode ('r+'), but it creates a new file if it doesn't exist. If the file already exists, its previous contents will be deleted and overwritten.\n",
    "\n",
    "6. Exclusive Creation Mode (mode='x'): This mode is used when you want to create a new file for writing, but it should not already exist. If the file with the given name/path already exists, an error will occur.\n",
    "\n"
   ]
  },
  {
   "cell_type": "code",
   "execution_count": 7,
   "id": "df66007e",
   "metadata": {},
   "outputs": [],
   "source": [
    "# w(write )mode example \n",
    "\n",
    "file = open('MyFile.txt','w')\n",
    "\n",
    "text = file.write('this is first file')\n",
    "\n",
    "file.close()"
   ]
  },
  {
   "cell_type": "code",
   "execution_count": 3,
   "id": "85cba2b4",
   "metadata": {},
   "outputs": [
    {
     "name": "stdout",
     "output_type": "stream",
     "text": [
      "this is first file\n"
     ]
    }
   ],
   "source": [
    "# r mode example\n",
    "# Reading a file\n",
    "file = open('MyFile.txt', 'r')\n",
    "\n",
    "#read()\n",
    "text = file.read()\n",
    "\n",
    "print(text)\n",
    "file.close()"
   ]
  },
  {
   "cell_type": "code",
   "execution_count": 26,
   "id": "1e67d29a",
   "metadata": {},
   "outputs": [],
   "source": [
    "# append mode example\n",
    "\n",
    "file = open('Myfile.txt','a')\n",
    "text =file.write('\\n this is a second line message')\n",
    "file.close()"
   ]
  },
  {
   "cell_type": "code",
   "execution_count": 12,
   "id": "54531d3d",
   "metadata": {},
   "outputs": [
    {
     "name": "stdout",
     "output_type": "stream",
     "text": [
      "this is first filethis is first filethis is a additional line to filethis is first filethis is first filethis is a additional line to file\n"
     ]
    }
   ],
   "source": [
    "# # Reading and Writing a file with r+ mode\n",
    "file = open('MyFile.txt', 'r+')\n",
    "lines = file.read()\n",
    "print(lines)\n",
    "file.write('this is a additional line to the file 2nd addition')\n",
    "file.close()"
   ]
  },
  {
   "cell_type": "code",
   "execution_count": 13,
   "id": "276e3532",
   "metadata": {},
   "outputs": [],
   "source": [
    "# Writing and Reading a file\n",
    "file = open('MyFile.txt', 'w+')\n",
    "lines = file.read()\n",
    "file.write('This is w+ mode\\n')\n",
    "file.close()"
   ]
  },
  {
   "cell_type": "code",
   "execution_count": 19,
   "id": "5a3d808e",
   "metadata": {},
   "outputs": [],
   "source": [
    "# exclusive mode \n",
    "file = open('MyFile3.txt', 'x')\n",
    "file.write('exclusive text')\n",
    "file.close()"
   ]
  },
  {
   "cell_type": "markdown",
   "id": "36411f62",
   "metadata": {},
   "source": [
    "## Q2. Why close() function is used? Why is it important to close a file?"
   ]
  },
  {
   "cell_type": "markdown",
   "id": "6d4e4bec",
   "metadata": {},
   "source": [
    "**The close() function is used to close an open file in programming. It is important to close a file after you have finished reading from or writing to it.**\n",
    "\n",
    "The close() function is used to:\n",
    "\n",
    "1. Release system resources associated with the file.\n",
    "2. Ensure data integrity by flushing any remaining buffered data to the disk.\n",
    "3. Allow other programs or processes to access the file.\n",
    "4. Trigger necessary file updates or operations.\n",
    "\n",
    "Closing a file is important to prevent resource leaks, data loss, and conflicts with other processes."
   ]
  },
  {
   "cell_type": "code",
   "execution_count": 20,
   "id": "b84635dd",
   "metadata": {},
   "outputs": [],
   "source": [
    "# close fuction example\n",
    "file = open('test.txt','w')\n",
    "\n",
    "text = file.write('close function example')\n",
    "file.close()"
   ]
  },
  {
   "cell_type": "markdown",
   "id": "5c930602",
   "metadata": {},
   "source": [
    "# Q3. Write a python program to create a text file. Write ‘I want to become a Data Scientist’ in that file. Then close the file. Open this file and read the content of the file."
   ]
  },
  {
   "cell_type": "code",
   "execution_count": 22,
   "id": "9c93d9c1",
   "metadata": {},
   "outputs": [],
   "source": [
    "# text file example \n",
    "file = open('datascience.txt','w')\n",
    "text = file.write('I want to become a Data Scienctist ')\n",
    "file.close()"
   ]
  },
  {
   "cell_type": "code",
   "execution_count": 23,
   "id": "72aaf4e3",
   "metadata": {},
   "outputs": [
    {
     "name": "stdout",
     "output_type": "stream",
     "text": [
      "I want to become a Data Scienctist \n"
     ]
    }
   ],
   "source": [
    "file  = open('datascience.txt','r')\n",
    "lines = file.read()\n",
    "print(lines)\n",
    "file.close()"
   ]
  },
  {
   "cell_type": "markdown",
   "id": "ccd8a66c",
   "metadata": {},
   "source": [
    "# Q4. Explain the following with python code: read(), readline() and readlines()."
   ]
  },
  {
   "cell_type": "code",
   "execution_count": 24,
   "id": "efca5012",
   "metadata": {},
   "outputs": [
    {
     "name": "stdout",
     "output_type": "stream",
     "text": [
      "I want to \n"
     ]
    }
   ],
   "source": [
    "# read example\n",
    "file  = open('datascience.txt','r')\n",
    "lines = file.read(10)# length of text to read \n",
    "print(lines)\n",
    "file.close()"
   ]
  },
  {
   "cell_type": "code",
   "execution_count": 25,
   "id": "94844880",
   "metadata": {},
   "outputs": [
    {
     "name": "stdout",
     "output_type": "stream",
     "text": [
      "This is w+ mode\n",
      "\n"
     ]
    }
   ],
   "source": [
    "# readline example \n",
    "file  = open('Myfile.txt','r')\n",
    "lines = file.readline()\n",
    "print(lines)\n",
    "file.close()"
   ]
  },
  {
   "cell_type": "code",
   "execution_count": 27,
   "id": "42c3f445",
   "metadata": {},
   "outputs": [
    {
     "name": "stdout",
     "output_type": "stream",
     "text": [
      "['This is w+ mode\\n', '\\n', ' this is a second line message']\n"
     ]
    }
   ],
   "source": [
    "# readlines example \n",
    "file  = open('Myfile.txt','r')\n",
    "lines = file.readlines()\n",
    "print(lines)\n",
    "file.close()"
   ]
  },
  {
   "cell_type": "markdown",
   "id": "2132a12f",
   "metadata": {},
   "source": [
    "# Q5. Explain why with statement is used with open(). What is the advantage of using with statement and open() together?\n",
    "\n",
    "\n"
   ]
  },
  {
   "cell_type": "markdown",
   "id": "44c614d8",
   "metadata": {},
   "source": [
    "## The \"with\" statement is used with the \"open()\" function to automatically handle file operations, including opening and closing the file. The advantage of using the \"with\" statement with \"open()\" is that it automatically takes care of closing the file for you, even in the presence of exceptions, ensuring proper resource management and simplifying code syntax."
   ]
  },
  {
   "cell_type": "code",
   "execution_count": 28,
   "id": "e0376014",
   "metadata": {},
   "outputs": [
    {
     "name": "stdout",
     "output_type": "stream",
     "text": [
      "This is file created using (with) statement\n"
     ]
    }
   ],
   "source": [
    "# using with statement\n",
    "with open('with_file.txt', 'w') as file:\n",
    "\tfile.write('This is file created using (with) statement')\n",
    "# Using the above file using with statement and reading the file\n",
    "with open('with_file.txt','r') as file:\n",
    "    print(file.read())"
   ]
  },
  {
   "cell_type": "markdown",
   "id": "7e885d0b",
   "metadata": {},
   "source": [
    "# Q6. Explain the write() and writelines() functions. Give a suitable example."
   ]
  },
  {
   "cell_type": "markdown",
   "id": "20bfb522",
   "metadata": {},
   "source": [
    "## 1 The write() function will write the content in the file without adding any extra characters.\n",
    "`While writing data to a file, we must know that the write function does not add a newline character(\\n) to the end of the string.\n",
    "The write() function returns None.`"
   ]
  },
  {
   "cell_type": "code",
   "execution_count": 29,
   "id": "82fedaf6",
   "metadata": {},
   "outputs": [],
   "source": [
    "# write example \n",
    "name  = ['virat','sachine','dhoni']\n",
    "\n",
    "with open('cricket.txt','w') as cric:\n",
    "    for i in name:\n",
    "        cric.write(f'{i} is a very good batsman')\n",
    "        cric.write('\\n')\n",
    "        \n",
    "    cric.close()\n",
    "    \n",
    "    "
   ]
  },
  {
   "cell_type": "code",
   "execution_count": 31,
   "id": "179d1716",
   "metadata": {},
   "outputs": [
    {
     "name": "stdout",
     "output_type": "stream",
     "text": [
      "virat is a very good batsman\n",
      "sachine is a very good batsman\n",
      "dhoni is a very good batsman\n",
      "\n"
     ]
    }
   ],
   "source": [
    "with open('cricket.txt','r') as cric:\n",
    "    print(cric.read())"
   ]
  },
  {
   "cell_type": "markdown",
   "id": "7a1cfa7f",
   "metadata": {},
   "source": [
    "## 2 writelines(): This function writes the content of a list to a file.\n",
    "`The list of strings that is passed to the writelines() function is written into the opened file.\n",
    "Similar to the write() function, the writelines() function does not add a newline character(\\n) to the end of the string`"
   ]
  },
  {
   "cell_type": "code",
   "execution_count": 32,
   "id": "581d91d1",
   "metadata": {},
   "outputs": [
    {
     "name": "stdout",
     "output_type": "stream",
     "text": [
      "Line 1\n",
      "Line 2\n",
      "Line 3\n",
      "\n"
     ]
    }
   ],
   "source": [
    "# writelines example\n",
    "\n",
    "lines = [\"Line 1\\n\", \"Line 2\\n\", \"Line 3\\n\"]\n",
    "\n",
    "with open(\"example.txt\", \"w\") as file:\n",
    "    file.writelines(lines)\n",
    "    \n",
    "with open(\"example.txt\", \"r\") as file:\n",
    "    print(file.read())"
   ]
  },
  {
   "cell_type": "code",
   "execution_count": null,
   "id": "369f7806",
   "metadata": {},
   "outputs": [],
   "source": []
  }
 ],
 "metadata": {
  "kernelspec": {
   "display_name": "Python 3 (ipykernel)",
   "language": "python",
   "name": "python3"
  },
  "language_info": {
   "codemirror_mode": {
    "name": "ipython",
    "version": 3
   },
   "file_extension": ".py",
   "mimetype": "text/x-python",
   "name": "python",
   "nbconvert_exporter": "python",
   "pygments_lexer": "ipython3",
   "version": "3.9.13"
  }
 },
 "nbformat": 4,
 "nbformat_minor": 5
}
