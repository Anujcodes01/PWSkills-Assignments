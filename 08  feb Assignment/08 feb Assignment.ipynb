{
 "cells": [
  {
   "cell_type": "markdown",
   "id": "6be157b4",
   "metadata": {},
   "source": [
    "## Q1. What is Abstraction in OOps? Explain with an example."
   ]
  },
  {
   "cell_type": "markdown",
   "id": "c7667499",
   "metadata": {},
   "source": [
    "**Abstract Classes: An abstract class is a class that cannot be instantiated and serves as a blueprint for derived classes. It may contain abstract methods (methods without implementation) and concrete methods (methods with implementation). Abstract methods define the contract that derived classes must fulfill by implementing those methods. Here's an example in Python:**"
   ]
  },
  {
   "cell_type": "code",
   "execution_count": 2,
   "id": "b41c688e",
   "metadata": {},
   "outputs": [
    {
     "name": "stdout",
     "output_type": "stream",
     "text": [
      "Woof!\n",
      "Zzzz...\n",
      "Meow!\n",
      "Zzzz...\n"
     ]
    }
   ],
   "source": [
    "from abc import ABC, abstractmethod\n",
    "\n",
    "class Animal(ABC):\n",
    "    @abstractmethod\n",
    "    def make_sound(self):\n",
    "        pass\n",
    "\n",
    "    def sleep(self):\n",
    "        print(\"Zzzz...\")\n",
    "\n",
    "class Dog(Animal):\n",
    "    def make_sound(self):\n",
    "        print(\"Woof!\")\n",
    "\n",
    "class Cat(Animal):\n",
    "    def make_sound(self):\n",
    "        print(\"Meow!\")\n",
    "\n",
    "dog = Dog()\n",
    "dog.make_sound()  # Output: \"Woof!\"\n",
    "dog.sleep()  # Output: \"Zzzz...\"\n",
    "\n",
    "cat = Cat()\n",
    "cat.make_sound()  # Output: \"Meow!\"\n",
    "cat.sleep()  # Output: \"Zzzz...\""
   ]
  },
  {
   "cell_type": "markdown",
   "id": "ef5fae43",
   "metadata": {},
   "source": [
    "# Q2. Differentiate between Abstraction and Encapsulation. Explain with an example."
   ]
  },
  {
   "cell_type": "markdown",
   "id": "a402021d",
   "metadata": {},
   "source": [
    "Abstraction and encapsulation are two fundamental concepts in object-oriented programming that help in designing and implementing software systems. Although they are related, they serve different purposes and have distinct characteristics.\n",
    "\n",
    "**Abstraction is a concept that focuses on presenting only the essential and relevant information to the outside world while hiding the unnecessary details. It provides a high-level view of an entity or system by defining its essential characteristics and behaviors, without specifying the implementation details. Abstraction helps in managing complexity by breaking down a system into manageable parts and defining interfaces for interacting with those parts.**\n",
    "\n"
   ]
  },
  {
   "cell_type": "code",
   "execution_count": 4,
   "id": "91fd149d",
   "metadata": {},
   "outputs": [
    {
     "name": "stdout",
     "output_type": "stream",
     "text": [
      "I can walk and run\n",
      "I can crawl\n",
      "I can bark\n",
      "I can roar\n"
     ]
    }
   ],
   "source": [
    "# Python program showing\n",
    "# abstract base class work\n",
    "\n",
    "from abc import ABC, abstractmethod\n",
    "class Animal(ABC):\n",
    "\n",
    "\tdef move(self):\n",
    "\t\tpass\n",
    "\n",
    "class Human(Animal):\n",
    "\n",
    "\tdef move(self):\n",
    "\t\tprint(\"I can walk and run\")\n",
    "\n",
    "class Snake(Animal):\n",
    "\n",
    "\tdef move(self):\n",
    "\t\tprint(\"I can crawl\")\n",
    "\n",
    "class Dog(Animal):\n",
    "\n",
    "\tdef move(self):\n",
    "\t\tprint(\"I can bark\")\n",
    "\n",
    "class Lion(Animal):\n",
    "\n",
    "\tdef move(self):\n",
    "\t\tprint(\"I can roar\")\n",
    "\t\t\n",
    "# Driver code\n",
    "R = Human()\n",
    "R.move()\n",
    "\n",
    "K = Snake()\n",
    "K.move()\n",
    "\n",
    "R = Dog()\n",
    "R.move()\n",
    "\n",
    "K = Lion()\n",
    "K.move()\n",
    "\n"
   ]
  },
  {
   "cell_type": "code",
   "execution_count": null,
   "id": "8bf8934d",
   "metadata": {},
   "outputs": [],
   "source": []
  },
  {
   "cell_type": "markdown",
   "id": "9389080c",
   "metadata": {},
   "source": [
    "**Encapsulation, on the other hand, is a mechanism that binds together the data and methods (or functions) that manipulate that data, into a single unit called a class. It ensures that the internal state and behavior of an object are hidden from the outside and can only be accessed through well-defined interfaces. Encapsulation provides data protection and prevents direct access or modification of internal data by external entities, enforcing data integrity and maintaining a controlled environment for interacting with the object.**"
   ]
  },
  {
   "cell_type": "code",
   "execution_count": 20,
   "id": "7c9f7804",
   "metadata": {},
   "outputs": [],
   "source": [
    "# Encapsulation example\n",
    "class BankAccount:\n",
    "    def __init__(self, account_number):\n",
    "        self.account_number = account_number\n",
    "        self.__balance = 0\n",
    "\n",
    "    def deposit(self, amount):\n",
    "        self.__balance += amount\n",
    "        return self.__balance\n",
    "\n",
    "    def withdraw(self, amount):\n",
    "        if self.__balance >= amount:\n",
    "            self.__balance -= amount\n",
    "            \n",
    "            return ('this available balance is  ==>',self.__balance)\n",
    "\n",
    "    def get_balance(self):\n",
    "        return self.__balance\n"
   ]
  },
  {
   "cell_type": "code",
   "execution_count": 21,
   "id": "d590c00f",
   "metadata": {},
   "outputs": [],
   "source": [
    "b =BankAccount(798809)"
   ]
  },
  {
   "cell_type": "code",
   "execution_count": 22,
   "id": "0ffc4d55",
   "metadata": {},
   "outputs": [
    {
     "data": {
      "text/plain": [
       "3425"
      ]
     },
     "execution_count": 22,
     "metadata": {},
     "output_type": "execute_result"
    }
   ],
   "source": [
    "b.deposit(3425)"
   ]
  },
  {
   "cell_type": "code",
   "execution_count": 23,
   "id": "0e7edeea",
   "metadata": {},
   "outputs": [
    {
     "data": {
      "text/plain": [
       "('this available balance is  ==>', 2902)"
      ]
     },
     "execution_count": 23,
     "metadata": {},
     "output_type": "execute_result"
    }
   ],
   "source": [
    "b.withdraw(523)"
   ]
  },
  {
   "cell_type": "code",
   "execution_count": 18,
   "id": "7abd72e4",
   "metadata": {},
   "outputs": [
    {
     "data": {
      "text/plain": [
       "6327"
      ]
     },
     "execution_count": 18,
     "metadata": {},
     "output_type": "execute_result"
    }
   ],
   "source": [
    "b.get_balance()"
   ]
  },
  {
   "cell_type": "markdown",
   "id": "528ee565",
   "metadata": {},
   "source": [
    "## Q3. What is abc module in python? Why is it used?"
   ]
  },
  {
   "cell_type": "markdown",
   "id": "9d9b4460",
   "metadata": {},
   "source": [
    "**The abc module in Python stands for \"Abstract Base Classes.\" It provides a way to define abstract base classes and abstract methods. Abstract base classes cannot be instantiated directly and serve as blueprints for other classes to inherit from. They enforce a common interface that subclasses must implement, promoting code reuse, polymorphism, and structural guidance in the codebase. The abc module is used to create abstract base classes and define abstract methods using the @abc.abstractmethod decorator or the ABC metaclass.**"
   ]
  },
  {
   "cell_type": "markdown",
   "id": "1ea4961b",
   "metadata": {},
   "source": [
    "# Q4 How can we achieve data abstraction?"
   ]
  },
  {
   "cell_type": "markdown",
   "id": "899b4629",
   "metadata": {},
   "source": [
    "Data abstraction can be achieved in Python by using classes and objects. Here are the steps to achieve data abstraction:\n",
    "\n",
    "1. **Identify the relevant data:** Determine the essential data that needs to be represented and manipulated in your program.\n",
    "\n",
    "2. **Encapsulate the data:** Create a class that encapsulates the data by defining attributes (variables) within the class. These attributes should represent the relevant data.\n",
    "\n",
    "3. **Define access methods:** Within the class, define methods (also known as getters and setters) that allow controlled access to the encapsulated data. These methods provide an interface for interacting with the data, hiding the implementation details.\n",
    "\n",
    "4. **Access the data through the class:** Instantiate objects from the class and use the defined access methods to interact with the encapsulated data. The external code should only access the data through the provided methods, maintaining abstraction and encapsulation.\n",
    "\n",
    "Here's a simple example to illustrate data abstraction:\n",
    "\n",
    "```python\n",
    "class BankAccount:\n",
    "    def __init__(self, account_number):\n",
    "        self.account_number = account_number\n",
    "        self.__balance = 0\n",
    "\n",
    "    def deposit(self, amount):\n",
    "        self.__balance += amount\n",
    "\n",
    "    def withdraw(self, amount):\n",
    "        if self.__balance >= amount:\n",
    "            self.__balance -= amount\n",
    "\n",
    "    def get_balance(self):\n",
    "        return self.__balance\n",
    "\n",
    "# Create an instance of BankAccount\n",
    "account = BankAccount(\"1234567890\")\n",
    "\n",
    "# Access the data through methods\n",
    "account.deposit(1000)\n",
    "account.withdraw(500)\n",
    "balance = account.get_balance()\n",
    "print(balance)  # Output: 500\n",
    "```\n",
    "\n"
   ]
  },
  {
   "cell_type": "markdown",
   "id": "488dce02",
   "metadata": {},
   "source": [
    "# Q5. Can we create an instance of an abstract class? Explain your answer."
   ]
  },
  {
   "cell_type": "markdown",
   "id": "a0c1c837",
   "metadata": {},
   "source": [
    "**No, we cannot create an instance of an abstract class in Python. Abstract classes are designed to be incomplete and serve as blueprints for other classes to inherit from. They contain one or more abstract methods, which are declared but not implemented in the abstract class itself.**\n",
    "\n",
    "**The purpose of an abstract class is to provide a common interface and define the contract that its subclasses must adhere to by implementing the abstract methods. Since abstract classes are incomplete and contain unimplemented methods, it doesn't make sense to instantiate them directly.**"
   ]
  },
  {
   "cell_type": "code",
   "execution_count": null,
   "id": "ca52a6be",
   "metadata": {},
   "outputs": [],
   "source": []
  }
 ],
 "metadata": {
  "kernelspec": {
   "display_name": "Python 3 (ipykernel)",
   "language": "python",
   "name": "python3"
  },
  "language_info": {
   "codemirror_mode": {
    "name": "ipython",
    "version": 3
   },
   "file_extension": ".py",
   "mimetype": "text/x-python",
   "name": "python",
   "nbconvert_exporter": "python",
   "pygments_lexer": "ipython3",
   "version": "3.9.13"
  }
 },
 "nbformat": 4,
 "nbformat_minor": 5
}
