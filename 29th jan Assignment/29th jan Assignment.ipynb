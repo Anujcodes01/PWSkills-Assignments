{
 "cells": [
  {
   "cell_type": "markdown",
   "id": "905294e9",
   "metadata": {},
   "source": [
    "## 1. Who developed Python Programming Language? "
   ]
  },
  {
   "cell_type": "markdown",
   "id": "b6ccdbe1",
   "metadata": {},
   "source": [
    "### Answer =Python programming language was developed by Guido van Rossum in the late 1980s and early 1990s. Guido van Rossum was a Dutch programmer, and he designed Python with the goal of creating a simple and easy-to-read programming language that could be used for a wide range of applications. The first version of Python, version 0.9.0, was released in February 1991. Since then, Python has become one of the most popular programming languages in the world, used in a wide range of fields such as web development, scientific computing, data analysis, artificial intelligence, and more."
   ]
  },
  {
   "cell_type": "markdown",
   "id": "0ad77c39",
   "metadata": {},
   "source": [
    "## 2. Which type of Programming does Python support? "
   ]
  },
  {
   "cell_type": "markdown",
   "id": "6290c929",
   "metadata": {},
   "source": [
    "### Answer = Python is a high-level, interpreted programming language that supports multiple programming paradigms. Some of the programming paradigms that Python supports include:\n",
    " \n",
    "*  Procedural programming: Python supports procedural programming, which involves writing code in a step-by-step manner to solve a problem.\n",
    "\n",
    "* Object-oriented programming: Python also supports object-oriented programming, which involves creating objects that have attributes (data) and methods (functions) that operate on that data.\n",
    "\n",
    "* Functional programming: Python supports functional programming, which involves writing code that is based on mathematical functions and avoids changing state and mutable data.\n",
    "\n",
    "* Event-driven programming: Python supports event-driven programming, which involves writing code that responds to events triggered by the user or system.\n",
    "\n",
    "* Python's versatility and support for multiple programming paradigms make it a popular choice for a wide range of applications, from web development to scientific computing to data analysis and more.\n",
    " \n",
    " "
   ]
  },
  {
   "cell_type": "markdown",
   "id": "46976e9f",
   "metadata": {},
   "source": [
    "## 3. Is Python case sensitive when dealing with identifiers? "
   ]
  },
  {
   "cell_type": "markdown",
   "id": "42cd82ab",
   "metadata": {},
   "source": [
    "### Answer = Yes, Python is case sensitive when dealing with identifiers such as variable names, function names, and class names. This means that if you define a variable named \"myVar\" with a capital \"V\", you cannot access the variable using \"myvar\" or \"MYVAR\". The same is true for function and class names.\n",
    "\n"
   ]
  },
  {
   "cell_type": "code",
   "execution_count": 2,
   "id": "234a7a51",
   "metadata": {},
   "outputs": [
    {
     "name": "stdout",
     "output_type": "stream",
     "text": [
      "10\n",
      "20\n"
     ]
    },
    {
     "ename": "NameError",
     "evalue": "name 'myvar' is not defined",
     "output_type": "error",
     "traceback": [
      "\u001b[1;31m---------------------------------------------------------------------------\u001b[0m",
      "\u001b[1;31mNameError\u001b[0m                                 Traceback (most recent call last)",
      "\u001b[1;32m~\\AppData\\Local\\Temp\\ipykernel_13724\\166075323.py\u001b[0m in \u001b[0;36m<module>\u001b[1;34m\u001b[0m\n\u001b[0;32m      8\u001b[0m \u001b[0mprint\u001b[0m\u001b[1;33m(\u001b[0m\u001b[0mMyVar\u001b[0m\u001b[1;33m)\u001b[0m \u001b[1;31m# Output: 20\u001b[0m\u001b[1;33m\u001b[0m\u001b[1;33m\u001b[0m\u001b[0m\n\u001b[0;32m      9\u001b[0m \u001b[1;33m\u001b[0m\u001b[0m\n\u001b[1;32m---> 10\u001b[1;33m \u001b[0mprint\u001b[0m\u001b[1;33m(\u001b[0m\u001b[0mmyvar\u001b[0m\u001b[1;33m)\u001b[0m \u001b[1;31m# Output: NameError: name 'myvar' is not defined\u001b[0m\u001b[1;33m\u001b[0m\u001b[1;33m\u001b[0m\u001b[0m\n\u001b[0m\u001b[0;32m     11\u001b[0m \u001b[1;33m\u001b[0m\u001b[0m\n",
      "\u001b[1;31mNameError\u001b[0m: name 'myvar' is not defined"
     ]
    }
   ],
   "source": [
    "#For example, consider the following code:\n",
    "\n",
    "#```python\n",
    "myVar = 10\n",
    "print(myVar) # Output: 10\n",
    "\n",
    "MyVar = 20\n",
    "print(MyVar) # Output: 20\n",
    "\n",
    "print(myvar) # Output: NameError: name 'myvar' is not defined\n",
    "\n"
   ]
  },
  {
   "cell_type": "markdown",
   "id": "bfd76a4f",
   "metadata": {},
   "source": [
    "## In this example, we define a variable \"myVar\" and assign it the value of 10. We then define a second variable \"MyVar\" with a capital \"M\" and assign it the value of 20. Finally, when we try to print \"myvar\" with a lowercase \"v\", we get a NameError because Python is case sensitive and does not recognize \"myvar\" as a defined variable.\n",
    "\n",
    "## It's important to be consistent in your use of capitalization when defining identifiers in Python to avoid errors and confusion in your code."
   ]
  },
  {
   "cell_type": "markdown",
   "id": "25a49bf9",
   "metadata": {},
   "source": [
    "## 4. What is the correct extension of the Python file? "
   ]
  },
  {
   "cell_type": "markdown",
   "id": "384d5fd4",
   "metadata": {},
   "source": [
    "### Answer = The correct extension for a Python file is \".py\". When you save a Python script, you should give it a name that ends with the \".py\" extension, such as \"my_script.py\".\n",
    "\n",
    "### his convention is used to indicate that the file contains Python code that can be executed by the Python interpreter. When you run a Python program, you can do so from the command line by typing \"python\" followed by the name of the Python file, like this:\n",
    "\n",
    "```\n",
    "* python my_script.py\n",
    "```\n",
    "\n",
    "### is tells the Python interpreter to execute the code in the \"my_script.py\" file.\n",
    "\n",
    "### It's important to use the correct file extension when saving Python files to ensure that they can be easily identified as Python scripts, and to avoid confusion with files that have different extensions but the same name."
   ]
  },
  {
   "cell_type": "markdown",
   "id": "163f7a72",
   "metadata": {},
   "source": [
    "## 5. Is Python code compiled or interpreted?"
   ]
  },
  {
   "cell_type": "markdown",
   "id": "fd20b307",
   "metadata": {},
   "source": [
    "### Answer = Python is an interpreted programming language, which means that the Python interpreter executes the code directly without first compiling it to machine code. When you run a Python program, the interpreter reads the source code and translates it into machine-readable bytecode, which is then executed by the interpreter. Python's interpreted nature makes it easier to write and test code quickly, since you don't need to wait for a lengthy compilation step before running your code. However, interpreted languages like Python can sometimes run slower than compiled languages because the interpreter has to perform additional work during runtime to execute the code.\n",
    "\n",
    "* That being said, Python also supports a feature called \"just-in-time\" (JIT) compilation, which can help to speed up the execution of Python code. JIT compilation involves compiling frequently-used sections of code at runtime to optimize their execution speed. This can result in significant performance improvements for some types of Python programs.\n",
    "\n",
    "* Overall, while Python is primarily an interpreted language, its support for JIT compilation means that it can sometimes offer the benefits of a compiled language as well."
   ]
  },
  {
   "cell_type": "markdown",
   "id": "b9676498",
   "metadata": {},
   "source": [
    "## 6. Name a few blocks of code used to define in Python language? \n"
   ]
  },
  {
   "cell_type": "markdown",
   "id": "77bd2f06",
   "metadata": {},
   "source": [
    "### Answer =  In Python, code blocks are defined using indentation rather than braces or other delimiters like some other programming languages. The indentation level determines which statements belong to a particular block of code. Here are a few examples of code blocks commonly used in Python:\n",
    "\n",
    "* Function definition block:\n"
   ]
  },
  {
   "cell_type": "code",
   "execution_count": 6,
   "id": "8d3968e1",
   "metadata": {},
   "outputs": [],
   "source": [
    "def my_function(param1, param2):\n",
    "    # Code block for the function\n",
    "    result = param1 + param2\n",
    "    return result"
   ]
  },
  {
   "cell_type": "markdown",
   "id": "b85ff65f",
   "metadata": {},
   "source": [
    "###  In this example, the function definition block begins with the \"def\" keyword and ends with the \"return\" statement. All of the statements within the block are indented to indicate that they belong to the function definition.\n",
    "\n",
    "* If statement block:"
   ]
  },
  {
   "cell_type": "code",
   "execution_count": 9,
   "id": "a5052d34",
   "metadata": {},
   "outputs": [
    {
     "name": "stdout",
     "output_type": "stream",
     "text": [
      "x is greater than 10\n"
     ]
    }
   ],
   "source": [
    "x=19\n",
    "if x > 10:\n",
    "    # Code block for if statement\n",
    "    print(\"x is greater than 10\")\n",
    "else:\n",
    "    # Code block for else statement\n",
    "    print(\"x is less than or equal to 10\")"
   ]
  },
  {
   "cell_type": "markdown",
   "id": "8d25fb7e",
   "metadata": {},
   "source": [
    "### In this example, the if statement block begins with the \"if\" keyword and ends with the \"else\" keyword. The code blocks for both branches of the if statement are indented to indicate that they belong to the statement.\n",
    "\n",
    "* Loop block:"
   ]
  },
  {
   "cell_type": "code",
   "execution_count": 8,
   "id": "998d90e2",
   "metadata": {},
   "outputs": [
    {
     "name": "stdout",
     "output_type": "stream",
     "text": [
      "0\n",
      "1\n",
      "2\n",
      "3\n",
      "4\n"
     ]
    }
   ],
   "source": [
    "for i in range(5):\n",
    "    # Code block for loop\n",
    "    print(i)"
   ]
  },
  {
   "cell_type": "markdown",
   "id": "0a89dd2d",
   "metadata": {},
   "source": [
    "### In this example, the loop block begins with the \"for\" keyword and ends with the end of the indentation level. The code block for the loop is indented to indicate that it belongs to the loop statement.\n",
    "\n",
    "### These are just a few examples of the types of code blocks commonly used in Python. Other examples include try/except blocks, class definition blocks, and with statement blocks."
   ]
  },
  {
   "cell_type": "markdown",
   "id": "bafe2a7b",
   "metadata": {},
   "source": [
    "## 7. State a character used to give single-line comments in Python? "
   ]
  },
  {
   "cell_type": "markdown",
   "id": "49ceb5f9",
   "metadata": {},
   "source": [
    "### Answer = In Python, the hash symbol \"#\" is used to indicate a single-line comment. Anything that comes after the \"#\" symbol on a line is considered to be a comment and is ignored by the Python interpreter. Here's an example of a single-line comment in Python:\n"
   ]
  },
  {
   "cell_type": "code",
   "execution_count": 10,
   "id": "c137d891",
   "metadata": {},
   "outputs": [],
   "source": [
    "#This is a single-line comment in Python"
   ]
  },
  {
   "cell_type": "markdown",
   "id": "3cc0f57d",
   "metadata": {},
   "source": [
    "## 8. Mention functions which can help us to find the version of python that we are currently working on? "
   ]
  },
  {
   "cell_type": "markdown",
   "id": "f3a5bb18",
   "metadata": {},
   "source": [
    "### Answer = `python --version` is a command used in the command line interface to check the version of Python installed on your system. When you run this command, the version number of the installed Python interpreter is printed to the console. Here's an example of running the `python --version` command on a Linux system:\n",
    "\n",
    "```\n",
    "$ python --version\n",
    "Python 3.8.5\n",
    "```\n",
    "\n",
    "This command is often useful when you need to confirm which version of Python is installed on your system, especially if you have multiple versions of Python installed. It can also be useful when you are trying to troubleshoot issues related to Python version compatibility."
   ]
  },
  {
   "cell_type": "markdown",
   "id": "100d7a54",
   "metadata": {},
   "source": [
    "## 9. Python supports the creation of anonymous functions at runtime, using a construct called?"
   ]
  },
  {
   "cell_type": "markdown",
   "id": "df2efc23",
   "metadata": {},
   "source": [
    "### Answer = Python supports the creation of anonymous functions at runtime, using a construct called \"lambda functions\" or \"lambda expressions\". Lambda functions are small, single-expression functions that can be defined without a name and are often used in Python for simple, one-off operations.\n",
    "\n",
    "### Lambda functions are defined using the lambda keyword, followed by one or more arguments, a c olon, and the expression that the function should return. Here's an example:"
   ]
  },
  {
   "cell_type": "code",
   "execution_count": 11,
   "id": "7bec7a4c",
   "metadata": {},
   "outputs": [
    {
     "name": "stdout",
     "output_type": "stream",
     "text": [
      "30\n"
     ]
    }
   ],
   "source": [
    "# Define a lambda function to multiply two numbers\n",
    "multiply = lambda x, y: x * y\n",
    "\n",
    "# Call the lambda function\n",
    "result = multiply(5, 6)\n",
    "print(result) # Output: 30"
   ]
  },
  {
   "cell_type": "markdown",
   "id": "01713db8",
   "metadata": {},
   "source": [
    "## 10. What does pip stand for python?"
   ]
  },
  {
   "cell_type": "markdown",
   "id": "22e3d607",
   "metadata": {},
   "source": [
    "### Answer = pip is a package management system used to install and manage software packages written in Python. The name \"pip\" stands for \"Pip Installs Packages\" or \"Pip Installs Python\". It was first released in 2011 and has become the standard way of installing and managing Python packages.\n",
    "\n",
    "### With pip, you can easily install and uninstall Python packages, as well as upgrade or downgrade them to different versions. Pip also provides tools for managing package dependencies, creating virtual environments, and distributing packages. \n",
    "* To use pip, you need to have Python installed on your system, and pip should be installed by default along with most Python distributions. You can check if pip is installed on your system by running the following command in your terminal or command prompt:"
   ]
  },
  {
   "cell_type": "code",
   "execution_count": 12,
   "id": "1b2dc515",
   "metadata": {},
   "outputs": [
    {
     "name": "stdout",
     "output_type": "stream",
     "text": [
      "pip 22.2.2 from C:\\ProgramData\\Anaconda3\\lib\\site-packages\\pip (python 3.9)\n",
      "\n",
      "Note: you may need to restart the kernel to use updated packages.\n"
     ]
    }
   ],
   "source": [
    "pip --version"
   ]
  },
  {
   "cell_type": "markdown",
   "id": "eafb05d0",
   "metadata": {},
   "source": [
    "## 11. Mention a few built-in functions in python?"
   ]
  },
  {
   "cell_type": "markdown",
   "id": "d2fb955d",
   "metadata": {},
   "source": [
    "### Answer = Python provides many built-in functions that can be used directly in your code without requiring any additional imports or installations. Some of the most commonly used built-in functions in Python include:\n",
    "\n",
    "1. `print()`: Used to print output to the console or terminal.\n",
    "2. `type()`: Used to get the type of an object.\n",
    "3. `len()`: Used to get the length of a sequence (such as a string, list, or tuple).\n",
    "4. `input()`: Used to get input from the user via the console or terminal.\n",
    "5. `range()`: Used to generate a sequence of numbers.\n",
    "6. `int()`, `float()`, and `str()`: Used to convert values to integer, float, or string types, respectively.\n",
    "7. `sum()`: Used to calculate the sum of a sequence of numbers.\n",
    "8. `max()` and `min()`: Used to find the maximum and minimum values in a sequence, respectively.\n",
    "9. `abs()`: Used to get the absolute value of a number.\n",
    "10. `round()`: Used to round a number to a specified number of decimal places.\n",
    "\n",
    "These are just a few examples of the many built-in functions available in Python. By using built-in functions, you can save time and effort by not having to write common code yourself, and by leveraging the optimized implementations that are provided by the language."
   ]
  },
  {
   "cell_type": "markdown",
   "id": "98bf3f74",
   "metadata": {},
   "source": [
    "## 12. What is the maximum possible length of an identifier in Python? "
   ]
  },
  {
   "cell_type": "markdown",
   "id": "5b9faebe",
   "metadata": {},
   "source": [
    "### Answer = In Python, the maximum possible length of an identifier is not specified or limited by the language syntax. However, it is recommended to keep the identifier names reasonably short and meaningful for better code readability.\n",
    "\n",
    "### An identifier is a name given to entities like variables, functions, classes, etc., in Python. An identifier must start with a letter (a-z, A-Z) or underscore (_) character, and can be followed by letters, digits (0-9), or underscore characters.\n",
    "* Here is an example of a valid identifier in Python:"
   ]
  },
  {
   "cell_type": "code",
   "execution_count": 14,
   "id": "509a9cfc",
   "metadata": {},
   "outputs": [],
   "source": [
    "variable = 10"
   ]
  },
  {
   "cell_type": "markdown",
   "id": "a76e997a",
   "metadata": {},
   "source": [
    "In this example, variable is a valid identifier, consisting of letters and underscore characters.\n",
    "\n",
    "It is good practice to keep the length of an identifier reasonable and descriptive, so that the code is easy to read and understand. For example, instead of using a long identifier like this_is_a_really_long_variable_name, it is better to use a shorter and more descriptive name like user_input."
   ]
  },
  {
   "cell_type": "markdown",
   "id": "ad1374f2",
   "metadata": {},
   "source": [
    "## 13. What are the benefits of using Python? "
   ]
  },
  {
   "cell_type": "markdown",
   "id": "18a94788",
   "metadata": {},
   "source": [
    "### Amser = There are many benefits to using Python as a programming language, some of which include:\n",
    "\n",
    "1. Easy to Learn and Read: Python is designed to be simple and easy to learn, with a syntax that is clean and intuitive. This makes it an ideal language for beginners and for rapid prototyping.\n",
    "\n",
    "2. Large and Active Community: Python has a large and active community of developers, which means there is a wealth of documentation, tutorials, and support available. This also means that there are many third-party libraries and frameworks available for Python that can help you get started quickly and easily.\n",
    "\n",
    "3. Versatile: Python can be used for a wide range of applications, from web development to scientific computing to machine learning. It has a rich set of libraries and tools that make it easy to work with data, manipulate images, create GUIs, and more.\n",
    "\n",
    "4. Cross-Platform Compatibility: Python code can run on a variety of operating systems, including Windows, macOS, and Linux. This makes it easy to write code that can be run on different platforms without modification.\n",
    "\n",
    "5. High-Level Language: Python is a high-level language, which means that it abstracts away many of the low-level details of programming. This makes it easier to write code that is more concise and expressive.\n",
    "\n",
    "6. Open-Source: Python is an open-source language, which means that it is free to use and distribute. This makes it accessible to anyone who wants to learn or use it.\n",
    "\n",
    "Overall, Python is a powerful and versatile programming language that can be used for a wide range of applications. Its ease of use, large community, and wealth of third-party libraries and tools make it an ideal choice for beginners and experienced programmers alike."
   ]
  },
  {
   "cell_type": "markdown",
   "id": "8998349a",
   "metadata": {},
   "source": [
    "## 14. How is memory managed in Python? "
   ]
  },
  {
   "cell_type": "markdown",
   "id": "75ff6539",
   "metadata": {},
   "source": [
    "### Answer = Python's memory management is handled by a memory manager that uses a combination of reference counting and garbage collection to allocate and deallocate memory for objects. The memory manager periodically scans the memory for objects that are no longer referenced and deletes them. Object pooling is also used to reuse objects to reduce memory usage and improve performance. The system is designed to be efficient and automatic, but developers should still be aware of memory usage and optimize their code to avoid performance issues."
   ]
  },
  {
   "cell_type": "markdown",
   "id": "1a8977b7",
   "metadata": {},
   "source": [
    "## 15. How to install Python on Windows and set path variables? "
   ]
  },
  {
   "cell_type": "markdown",
   "id": "0faab4b4",
   "metadata": {},
   "source": [
    "### Answer = To install Python on Windows and set path variables, follow these steps:\n",
    "\n",
    "1. Go to the Python website (https://www.python.org/) and download the latest version of Python for Windows.\n",
    "\n",
    "2. Run the Python installer and follow the prompts to install Python on your computer.\n",
    "\n",
    "3. During the installation process, you will be prompted to choose whether to add Python to the system PATH. Choose \"Add Python to PATH\" and click \"Customize Installation\" to configure the installation options.\n",
    "\n",
    "4. Choose the installation options you want and click \"Next\" to continue the installation process.\n",
    "\n",
    "5. Once the installation is complete, open the command prompt by pressing the Windows key + R, typing \"cmd\" and pressing Enter.\n",
    "\n",
    "6. Type \"python\" into the command prompt and press Enter. If Python is installed correctly, you should see the Python interactive shell open in the command prompt.\n",
    "\n",
    "7. To set the path variables, right-click on \"My Computer\" and select \"Properties\".\n",
    "\n",
    "8. Click on \"Advanced system settings\" and then click on \"Environment Variables\".\n",
    "\n",
    "9. Under \"System variables\", scroll down and click on \"Path\", then click \"Edit\".\n",
    "\n",
    "10. Add the path to the Python installation directory (usually C:\\Pythonxx\\, where xx is the version number) to the list of paths.\n",
    "\n",
    "11. Click \"OK\" to close all the windows and save the changes.\n",
    "\n",
    "12. Restart the command prompt, and you should now be able to run Python from anywhere in the command prompt by typing \"python\" and pressing Enter."
   ]
  },
  {
   "cell_type": "markdown",
   "id": "63845f87",
   "metadata": {},
   "source": [
    "## 16. Is indentation required in python? \n",
    "\n"
   ]
  },
  {
   "cell_type": "markdown",
   "id": "7a830b6f",
   "metadata": {},
   "source": [
    "### Answer =  Yes, indentation is required in Python. Unlike other programming languages, Python uses indentation to define the scope and hierarchy of code blocks, such as functions, loops, and conditional statements. The standard convention is to use four spaces for each level of indentation.\n",
    "\n",
    "### Incorrect indentation in Python code will result in syntax errors or logical errors, making it important for programmers to pay attention to the correct indentation levels in their code."
   ]
  },
  {
   "cell_type": "code",
   "execution_count": 15,
   "id": "f769b77d",
   "metadata": {},
   "outputs": [
    {
     "name": "stdout",
     "output_type": "stream",
     "text": [
      "1 is odd\n",
      "2 is even\n",
      "3 is odd\n",
      "4 is even\n",
      "5 is odd\n",
      "6 is even\n",
      "7 is odd\n",
      "8 is even\n",
      "9 is odd\n",
      "10 is even\n"
     ]
    }
   ],
   "source": [
    "#Here is an example of how indentation is used in Python to define a code block:\n",
    "\n",
    "def print_numbers():\n",
    "    for i in range(1, 11):\n",
    "        if i % 2 == 0:\n",
    "            print(i, \"is even\")\n",
    "        else:\n",
    "            print(i, \"is odd\")\n",
    "\n",
    "print_numbers()\n",
    "#In this example, the print_numbers() function is defined with a code block that consists of a for loop and an if-else statement. The code block is indented by four spaces to indicate that it is part of the print_numbers() function. The print() statements inside the if-else block are also indented to show that they are part of the if-else block.\n",
    "\n"
   ]
  },
  {
   "cell_type": "code",
   "execution_count": 16,
   "id": "e67e1890",
   "metadata": {},
   "outputs": [
    {
     "ename": "IndentationError",
     "evalue": "expected an indented block (828969551.py, line 4)",
     "output_type": "error",
     "traceback": [
      "\u001b[1;36m  File \u001b[1;32m\"C:\\Users\\ASUS\\AppData\\Local\\Temp\\ipykernel_13724\\828969551.py\"\u001b[1;36m, line \u001b[1;32m4\u001b[0m\n\u001b[1;33m    for i in range(1, 11):\u001b[0m\n\u001b[1;37m    ^\u001b[0m\n\u001b[1;31mIndentationError\u001b[0m\u001b[1;31m:\u001b[0m expected an indented block\n"
     ]
    }
   ],
   "source": [
    "#if we were to remove the indentation, the code would not work and result in a syntax error, like this:\n",
    "\n",
    "def print_numbers():\n",
    "for i in range(1, 11):\n",
    "if i % 2 == 0:\n",
    "print(i, \"is even\")\n",
    "else:\n",
    "print(i, \"is odd\")\n",
    "\n",
    "print_numbers()\n",
    "#In this example, the code block is not indented, resulting in a syntax error. Python would not know which statements belong to the for loop or the if-else block, causing the code to fail.\n",
    "\n"
   ]
  },
  {
   "cell_type": "code",
   "execution_count": null,
   "id": "97127921",
   "metadata": {},
   "outputs": [],
   "source": []
  }
 ],
 "metadata": {
  "kernelspec": {
   "display_name": "Python 3 (ipykernel)",
   "language": "python",
   "name": "python3"
  },
  "language_info": {
   "codemirror_mode": {
    "name": "ipython",
    "version": 3
   },
   "file_extension": ".py",
   "mimetype": "text/x-python",
   "name": "python",
   "nbconvert_exporter": "python",
   "pygments_lexer": "ipython3",
   "version": "3.9.13"
  }
 },
 "nbformat": 4,
 "nbformat_minor": 5
}
